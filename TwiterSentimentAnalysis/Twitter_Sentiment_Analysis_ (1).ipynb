{
  "cells": [
    {
      "cell_type": "markdown",
      "metadata": {
        "id": "d8MzquwaTfnp"
      },
      "source": [
        "**1. ʟɪʙʀᴀʀɪᴇꜱ ɪᴍᴘᴏʀᴛɪɴɢ**"
      ]
    },
    {
      "cell_type": "code",
      "execution_count": 3,
      "metadata": {
        "id": "Hx3Zmg6tTACX"
      },
      "outputs": [],
      "source": [
        "import numpy as np\n",
        "import pandas as pd\n",
        "import tensorflow as tf\n",
        "from tensorflow.keras.preprocessing.text import Tokenizer\n",
        "from tensorflow.keras.preprocessing.sequence import pad_sequences\n",
        "from tensorflow.keras.models import Sequential\n",
        "from tensorflow.keras.layers import Embedding, LSTM, Dense, Dropout, SpatialDropout1D\n",
        "from sklearn.model_selection import train_test_split\n",
        "from sklearn.preprocessing import LabelEncoder\n",
        "from tensorflow.keras.utils import to_categorical"
      ]
    },
    {
      "cell_type": "markdown",
      "metadata": {
        "id": "acSzzJkZK_H5"
      },
      "source": [
        "**2. ᴅᴀᴛᴀ ᴄᴏʟʟᴇᴄᴛɪᴏɴꜱ**"
      ]
    },
    {
      "cell_type": "code",
      "execution_count": 4,
      "metadata": {
        "colab": {
          "base_uri": "https://localhost:8080/",
          "height": 676
        },
        "id": "lKOlqTdAKnc9",
        "outputId": "1ad06b26-2971-471e-f2d5-e50bcbfe69a4"
      },
      "outputs": [
        {
          "output_type": "execute_result",
          "data": {
            "text/plain": [
              "        textID                                               text  \\\n",
              "0   cb774db0d1                I`d have responded, if I were going   \n",
              "1   549e992a42      Sooo SAD I will miss you here in San Diego!!!   \n",
              "2   088c60f138                          my boss is bullying me...   \n",
              "3   9642c003ef                     what interview! leave me alone   \n",
              "4   358bd9e861   Sons of ****, why couldn`t they put them on t...   \n",
              "5   28b57f3990  http://www.dothebouncy.com/smf - some shameles...   \n",
              "6   6e0c6d75b1  2am feedings for the baby are fun when he is a...   \n",
              "7   50e14c0bb8                                         Soooo high   \n",
              "8   e050245fbd                                        Both of you   \n",
              "9   fc2cbefa9d   Journey!? Wow... u just became cooler.  hehe....   \n",
              "10  2339a9b08b   as much as i love to be hopeful, i reckon the...   \n",
              "11  16fab9f95b  I really really like the song Love Story by Ta...   \n",
              "12  74a76f6e0a       My Sharpie is running DANGERously low on ink   \n",
              "13  04dd1d2e34  i want to go to music tonight but i lost my vo...   \n",
              "14  bbe3cbf620                         test test from the LG enV2   \n",
              "15  8a939bfb59                              Uh oh, I am sunburned   \n",
              "16  3440297f8b   S`ok, trying to plot alternatives as we speak...   \n",
              "17  919fa93391  i`ve been sick for the past few days  and thus...   \n",
              "18  af3fed7fc3         is back home now      gonna miss every one   \n",
              "19  40e7becabf                         Hes just not that into you   \n",
              "\n",
              "                                        selected_text sentiment  \n",
              "0                 I`d have responded, if I were going   neutral  \n",
              "1                                            Sooo SAD  negative  \n",
              "2                                         bullying me  negative  \n",
              "3                                      leave me alone  negative  \n",
              "4                                       Sons of ****,  negative  \n",
              "5   http://www.dothebouncy.com/smf - some shameles...   neutral  \n",
              "6                                                 fun  positive  \n",
              "7                                          Soooo high   neutral  \n",
              "8                                         Both of you   neutral  \n",
              "9                        Wow... u just became cooler.  positive  \n",
              "10  as much as i love to be hopeful, i reckon the ...   neutral  \n",
              "11                                               like  positive  \n",
              "12                                        DANGERously  negative  \n",
              "13                                               lost  negative  \n",
              "14                         test test from the LG enV2   neutral  \n",
              "15                              Uh oh, I am sunburned  negative  \n",
              "16                                             *sigh*  negative  \n",
              "17                                               sick  negative  \n",
              "18                                               onna  negative  \n",
              "19                         Hes just not that into you   neutral  "
            ],
            "text/html": [
              "\n",
              "  <div id=\"df-34831b48-aba3-4aac-9473-3ccf53b013de\" class=\"colab-df-container\">\n",
              "    <div>\n",
              "<style scoped>\n",
              "    .dataframe tbody tr th:only-of-type {\n",
              "        vertical-align: middle;\n",
              "    }\n",
              "\n",
              "    .dataframe tbody tr th {\n",
              "        vertical-align: top;\n",
              "    }\n",
              "\n",
              "    .dataframe thead th {\n",
              "        text-align: right;\n",
              "    }\n",
              "</style>\n",
              "<table border=\"1\" class=\"dataframe\">\n",
              "  <thead>\n",
              "    <tr style=\"text-align: right;\">\n",
              "      <th></th>\n",
              "      <th>textID</th>\n",
              "      <th>text</th>\n",
              "      <th>selected_text</th>\n",
              "      <th>sentiment</th>\n",
              "    </tr>\n",
              "  </thead>\n",
              "  <tbody>\n",
              "    <tr>\n",
              "      <th>0</th>\n",
              "      <td>cb774db0d1</td>\n",
              "      <td>I`d have responded, if I were going</td>\n",
              "      <td>I`d have responded, if I were going</td>\n",
              "      <td>neutral</td>\n",
              "    </tr>\n",
              "    <tr>\n",
              "      <th>1</th>\n",
              "      <td>549e992a42</td>\n",
              "      <td>Sooo SAD I will miss you here in San Diego!!!</td>\n",
              "      <td>Sooo SAD</td>\n",
              "      <td>negative</td>\n",
              "    </tr>\n",
              "    <tr>\n",
              "      <th>2</th>\n",
              "      <td>088c60f138</td>\n",
              "      <td>my boss is bullying me...</td>\n",
              "      <td>bullying me</td>\n",
              "      <td>negative</td>\n",
              "    </tr>\n",
              "    <tr>\n",
              "      <th>3</th>\n",
              "      <td>9642c003ef</td>\n",
              "      <td>what interview! leave me alone</td>\n",
              "      <td>leave me alone</td>\n",
              "      <td>negative</td>\n",
              "    </tr>\n",
              "    <tr>\n",
              "      <th>4</th>\n",
              "      <td>358bd9e861</td>\n",
              "      <td>Sons of ****, why couldn`t they put them on t...</td>\n",
              "      <td>Sons of ****,</td>\n",
              "      <td>negative</td>\n",
              "    </tr>\n",
              "    <tr>\n",
              "      <th>5</th>\n",
              "      <td>28b57f3990</td>\n",
              "      <td>http://www.dothebouncy.com/smf - some shameles...</td>\n",
              "      <td>http://www.dothebouncy.com/smf - some shameles...</td>\n",
              "      <td>neutral</td>\n",
              "    </tr>\n",
              "    <tr>\n",
              "      <th>6</th>\n",
              "      <td>6e0c6d75b1</td>\n",
              "      <td>2am feedings for the baby are fun when he is a...</td>\n",
              "      <td>fun</td>\n",
              "      <td>positive</td>\n",
              "    </tr>\n",
              "    <tr>\n",
              "      <th>7</th>\n",
              "      <td>50e14c0bb8</td>\n",
              "      <td>Soooo high</td>\n",
              "      <td>Soooo high</td>\n",
              "      <td>neutral</td>\n",
              "    </tr>\n",
              "    <tr>\n",
              "      <th>8</th>\n",
              "      <td>e050245fbd</td>\n",
              "      <td>Both of you</td>\n",
              "      <td>Both of you</td>\n",
              "      <td>neutral</td>\n",
              "    </tr>\n",
              "    <tr>\n",
              "      <th>9</th>\n",
              "      <td>fc2cbefa9d</td>\n",
              "      <td>Journey!? Wow... u just became cooler.  hehe....</td>\n",
              "      <td>Wow... u just became cooler.</td>\n",
              "      <td>positive</td>\n",
              "    </tr>\n",
              "    <tr>\n",
              "      <th>10</th>\n",
              "      <td>2339a9b08b</td>\n",
              "      <td>as much as i love to be hopeful, i reckon the...</td>\n",
              "      <td>as much as i love to be hopeful, i reckon the ...</td>\n",
              "      <td>neutral</td>\n",
              "    </tr>\n",
              "    <tr>\n",
              "      <th>11</th>\n",
              "      <td>16fab9f95b</td>\n",
              "      <td>I really really like the song Love Story by Ta...</td>\n",
              "      <td>like</td>\n",
              "      <td>positive</td>\n",
              "    </tr>\n",
              "    <tr>\n",
              "      <th>12</th>\n",
              "      <td>74a76f6e0a</td>\n",
              "      <td>My Sharpie is running DANGERously low on ink</td>\n",
              "      <td>DANGERously</td>\n",
              "      <td>negative</td>\n",
              "    </tr>\n",
              "    <tr>\n",
              "      <th>13</th>\n",
              "      <td>04dd1d2e34</td>\n",
              "      <td>i want to go to music tonight but i lost my vo...</td>\n",
              "      <td>lost</td>\n",
              "      <td>negative</td>\n",
              "    </tr>\n",
              "    <tr>\n",
              "      <th>14</th>\n",
              "      <td>bbe3cbf620</td>\n",
              "      <td>test test from the LG enV2</td>\n",
              "      <td>test test from the LG enV2</td>\n",
              "      <td>neutral</td>\n",
              "    </tr>\n",
              "    <tr>\n",
              "      <th>15</th>\n",
              "      <td>8a939bfb59</td>\n",
              "      <td>Uh oh, I am sunburned</td>\n",
              "      <td>Uh oh, I am sunburned</td>\n",
              "      <td>negative</td>\n",
              "    </tr>\n",
              "    <tr>\n",
              "      <th>16</th>\n",
              "      <td>3440297f8b</td>\n",
              "      <td>S`ok, trying to plot alternatives as we speak...</td>\n",
              "      <td>*sigh*</td>\n",
              "      <td>negative</td>\n",
              "    </tr>\n",
              "    <tr>\n",
              "      <th>17</th>\n",
              "      <td>919fa93391</td>\n",
              "      <td>i`ve been sick for the past few days  and thus...</td>\n",
              "      <td>sick</td>\n",
              "      <td>negative</td>\n",
              "    </tr>\n",
              "    <tr>\n",
              "      <th>18</th>\n",
              "      <td>af3fed7fc3</td>\n",
              "      <td>is back home now      gonna miss every one</td>\n",
              "      <td>onna</td>\n",
              "      <td>negative</td>\n",
              "    </tr>\n",
              "    <tr>\n",
              "      <th>19</th>\n",
              "      <td>40e7becabf</td>\n",
              "      <td>Hes just not that into you</td>\n",
              "      <td>Hes just not that into you</td>\n",
              "      <td>neutral</td>\n",
              "    </tr>\n",
              "  </tbody>\n",
              "</table>\n",
              "</div>\n",
              "    <div class=\"colab-df-buttons\">\n",
              "\n",
              "  <div class=\"colab-df-container\">\n",
              "    <button class=\"colab-df-convert\" onclick=\"convertToInteractive('df-34831b48-aba3-4aac-9473-3ccf53b013de')\"\n",
              "            title=\"Convert this dataframe to an interactive table.\"\n",
              "            style=\"display:none;\">\n",
              "\n",
              "  <svg xmlns=\"http://www.w3.org/2000/svg\" height=\"24px\" viewBox=\"0 -960 960 960\">\n",
              "    <path d=\"M120-120v-720h720v720H120Zm60-500h600v-160H180v160Zm220 220h160v-160H400v160Zm0 220h160v-160H400v160ZM180-400h160v-160H180v160Zm440 0h160v-160H620v160ZM180-180h160v-160H180v160Zm440 0h160v-160H620v160Z\"/>\n",
              "  </svg>\n",
              "    </button>\n",
              "\n",
              "  <style>\n",
              "    .colab-df-container {\n",
              "      display:flex;\n",
              "      gap: 12px;\n",
              "    }\n",
              "\n",
              "    .colab-df-convert {\n",
              "      background-color: #E8F0FE;\n",
              "      border: none;\n",
              "      border-radius: 50%;\n",
              "      cursor: pointer;\n",
              "      display: none;\n",
              "      fill: #1967D2;\n",
              "      height: 32px;\n",
              "      padding: 0 0 0 0;\n",
              "      width: 32px;\n",
              "    }\n",
              "\n",
              "    .colab-df-convert:hover {\n",
              "      background-color: #E2EBFA;\n",
              "      box-shadow: 0px 1px 2px rgba(60, 64, 67, 0.3), 0px 1px 3px 1px rgba(60, 64, 67, 0.15);\n",
              "      fill: #174EA6;\n",
              "    }\n",
              "\n",
              "    .colab-df-buttons div {\n",
              "      margin-bottom: 4px;\n",
              "    }\n",
              "\n",
              "    [theme=dark] .colab-df-convert {\n",
              "      background-color: #3B4455;\n",
              "      fill: #D2E3FC;\n",
              "    }\n",
              "\n",
              "    [theme=dark] .colab-df-convert:hover {\n",
              "      background-color: #434B5C;\n",
              "      box-shadow: 0px 1px 3px 1px rgba(0, 0, 0, 0.15);\n",
              "      filter: drop-shadow(0px 1px 2px rgba(0, 0, 0, 0.3));\n",
              "      fill: #FFFFFF;\n",
              "    }\n",
              "  </style>\n",
              "\n",
              "    <script>\n",
              "      const buttonEl =\n",
              "        document.querySelector('#df-34831b48-aba3-4aac-9473-3ccf53b013de button.colab-df-convert');\n",
              "      buttonEl.style.display =\n",
              "        google.colab.kernel.accessAllowed ? 'block' : 'none';\n",
              "\n",
              "      async function convertToInteractive(key) {\n",
              "        const element = document.querySelector('#df-34831b48-aba3-4aac-9473-3ccf53b013de');\n",
              "        const dataTable =\n",
              "          await google.colab.kernel.invokeFunction('convertToInteractive',\n",
              "                                                    [key], {});\n",
              "        if (!dataTable) return;\n",
              "\n",
              "        const docLinkHtml = 'Like what you see? Visit the ' +\n",
              "          '<a target=\"_blank\" href=https://colab.research.google.com/notebooks/data_table.ipynb>data table notebook</a>'\n",
              "          + ' to learn more about interactive tables.';\n",
              "        element.innerHTML = '';\n",
              "        dataTable['output_type'] = 'display_data';\n",
              "        await google.colab.output.renderOutput(dataTable, element);\n",
              "        const docLink = document.createElement('div');\n",
              "        docLink.innerHTML = docLinkHtml;\n",
              "        element.appendChild(docLink);\n",
              "      }\n",
              "    </script>\n",
              "  </div>\n",
              "\n",
              "\n",
              "<div id=\"df-42d05449-3f96-49ec-adb2-18408dc0ab87\">\n",
              "  <button class=\"colab-df-quickchart\" onclick=\"quickchart('df-42d05449-3f96-49ec-adb2-18408dc0ab87')\"\n",
              "            title=\"Suggest charts\"\n",
              "            style=\"display:none;\">\n",
              "\n",
              "<svg xmlns=\"http://www.w3.org/2000/svg\" height=\"24px\"viewBox=\"0 0 24 24\"\n",
              "     width=\"24px\">\n",
              "    <g>\n",
              "        <path d=\"M19 3H5c-1.1 0-2 .9-2 2v14c0 1.1.9 2 2 2h14c1.1 0 2-.9 2-2V5c0-1.1-.9-2-2-2zM9 17H7v-7h2v7zm4 0h-2V7h2v10zm4 0h-2v-4h2v4z\"/>\n",
              "    </g>\n",
              "</svg>\n",
              "  </button>\n",
              "\n",
              "<style>\n",
              "  .colab-df-quickchart {\n",
              "      --bg-color: #E8F0FE;\n",
              "      --fill-color: #1967D2;\n",
              "      --hover-bg-color: #E2EBFA;\n",
              "      --hover-fill-color: #174EA6;\n",
              "      --disabled-fill-color: #AAA;\n",
              "      --disabled-bg-color: #DDD;\n",
              "  }\n",
              "\n",
              "  [theme=dark] .colab-df-quickchart {\n",
              "      --bg-color: #3B4455;\n",
              "      --fill-color: #D2E3FC;\n",
              "      --hover-bg-color: #434B5C;\n",
              "      --hover-fill-color: #FFFFFF;\n",
              "      --disabled-bg-color: #3B4455;\n",
              "      --disabled-fill-color: #666;\n",
              "  }\n",
              "\n",
              "  .colab-df-quickchart {\n",
              "    background-color: var(--bg-color);\n",
              "    border: none;\n",
              "    border-radius: 50%;\n",
              "    cursor: pointer;\n",
              "    display: none;\n",
              "    fill: var(--fill-color);\n",
              "    height: 32px;\n",
              "    padding: 0;\n",
              "    width: 32px;\n",
              "  }\n",
              "\n",
              "  .colab-df-quickchart:hover {\n",
              "    background-color: var(--hover-bg-color);\n",
              "    box-shadow: 0 1px 2px rgba(60, 64, 67, 0.3), 0 1px 3px 1px rgba(60, 64, 67, 0.15);\n",
              "    fill: var(--button-hover-fill-color);\n",
              "  }\n",
              "\n",
              "  .colab-df-quickchart-complete:disabled,\n",
              "  .colab-df-quickchart-complete:disabled:hover {\n",
              "    background-color: var(--disabled-bg-color);\n",
              "    fill: var(--disabled-fill-color);\n",
              "    box-shadow: none;\n",
              "  }\n",
              "\n",
              "  .colab-df-spinner {\n",
              "    border: 2px solid var(--fill-color);\n",
              "    border-color: transparent;\n",
              "    border-bottom-color: var(--fill-color);\n",
              "    animation:\n",
              "      spin 1s steps(1) infinite;\n",
              "  }\n",
              "\n",
              "  @keyframes spin {\n",
              "    0% {\n",
              "      border-color: transparent;\n",
              "      border-bottom-color: var(--fill-color);\n",
              "      border-left-color: var(--fill-color);\n",
              "    }\n",
              "    20% {\n",
              "      border-color: transparent;\n",
              "      border-left-color: var(--fill-color);\n",
              "      border-top-color: var(--fill-color);\n",
              "    }\n",
              "    30% {\n",
              "      border-color: transparent;\n",
              "      border-left-color: var(--fill-color);\n",
              "      border-top-color: var(--fill-color);\n",
              "      border-right-color: var(--fill-color);\n",
              "    }\n",
              "    40% {\n",
              "      border-color: transparent;\n",
              "      border-right-color: var(--fill-color);\n",
              "      border-top-color: var(--fill-color);\n",
              "    }\n",
              "    60% {\n",
              "      border-color: transparent;\n",
              "      border-right-color: var(--fill-color);\n",
              "    }\n",
              "    80% {\n",
              "      border-color: transparent;\n",
              "      border-right-color: var(--fill-color);\n",
              "      border-bottom-color: var(--fill-color);\n",
              "    }\n",
              "    90% {\n",
              "      border-color: transparent;\n",
              "      border-bottom-color: var(--fill-color);\n",
              "    }\n",
              "  }\n",
              "</style>\n",
              "\n",
              "  <script>\n",
              "    async function quickchart(key) {\n",
              "      const quickchartButtonEl =\n",
              "        document.querySelector('#' + key + ' button');\n",
              "      quickchartButtonEl.disabled = true;  // To prevent multiple clicks.\n",
              "      quickchartButtonEl.classList.add('colab-df-spinner');\n",
              "      try {\n",
              "        const charts = await google.colab.kernel.invokeFunction(\n",
              "            'suggestCharts', [key], {});\n",
              "      } catch (error) {\n",
              "        console.error('Error during call to suggestCharts:', error);\n",
              "      }\n",
              "      quickchartButtonEl.classList.remove('colab-df-spinner');\n",
              "      quickchartButtonEl.classList.add('colab-df-quickchart-complete');\n",
              "    }\n",
              "    (() => {\n",
              "      let quickchartButtonEl =\n",
              "        document.querySelector('#df-42d05449-3f96-49ec-adb2-18408dc0ab87 button');\n",
              "      quickchartButtonEl.style.display =\n",
              "        google.colab.kernel.accessAllowed ? 'block' : 'none';\n",
              "    })();\n",
              "  </script>\n",
              "</div>\n",
              "\n",
              "    </div>\n",
              "  </div>\n"
            ],
            "application/vnd.google.colaboratory.intrinsic+json": {
              "type": "dataframe",
              "variable_name": "data",
              "summary": "{\n  \"name\": \"data\",\n  \"rows\": 27481,\n  \"fields\": [\n    {\n      \"column\": \"textID\",\n      \"properties\": {\n        \"dtype\": \"string\",\n        \"num_unique_values\": 27481,\n        \"samples\": [\n          \"a7f72a928a\",\n          \"ef42dee96c\",\n          \"07d17131b1\"\n        ],\n        \"semantic_type\": \"\",\n        \"description\": \"\"\n      }\n    },\n    {\n      \"column\": \"text\",\n      \"properties\": {\n        \"dtype\": \"string\",\n        \"num_unique_values\": 27480,\n        \"samples\": [\n          \" Enjoy! Family trumps everything\",\n          \" --of them kinda turns me off of it all.  And then I buy more of them and dig a deeper hole, etc. ;;\",\n          \"Clive it`s my birthday pat me  http://apps.facebook.com/dogbook/profile/view/6386106\"\n        ],\n        \"semantic_type\": \"\",\n        \"description\": \"\"\n      }\n    },\n    {\n      \"column\": \"selected_text\",\n      \"properties\": {\n        \"dtype\": \"string\",\n        \"num_unique_values\": 22463,\n        \"samples\": [\n          \"we win\",\n          \"YES!!! haahaaa.! break out the jellybeaniesss!\",\n          \"hay wats ur AIM? we should chat\"\n        ],\n        \"semantic_type\": \"\",\n        \"description\": \"\"\n      }\n    },\n    {\n      \"column\": \"sentiment\",\n      \"properties\": {\n        \"dtype\": \"category\",\n        \"num_unique_values\": 3,\n        \"samples\": [\n          \"neutral\",\n          \"negative\",\n          \"positive\"\n        ],\n        \"semantic_type\": \"\",\n        \"description\": \"\"\n      }\n    }\n  ]\n}"
            }
          },
          "metadata": {},
          "execution_count": 4
        }
      ],
      "source": [
        "import pandas as pd\n",
        "\n",
        "#importing dataset\n",
        "data = pd.read_csv('/content/drive/MyDrive/Twitter_Data.csv')\n",
        "data.head(20)\n"
      ]
    },
    {
      "cell_type": "markdown",
      "metadata": {
        "id": "VEEflkV2Meia"
      },
      "source": [
        "**3. ᴅᴀᴛᴀ ᴄʟᴇᴀɴɪɴɢ**"
      ]
    },
    {
      "cell_type": "code",
      "execution_count": 5,
      "metadata": {
        "colab": {
          "base_uri": "https://localhost:8080/",
          "height": 206
        },
        "id": "QbuOLwq3LgOu",
        "outputId": "cb9a01a0-7ab6-4082-a501-880fbf0bb027"
      },
      "outputs": [
        {
          "output_type": "execute_result",
          "data": {
            "text/plain": [
              "                         selected_text sentiment\n",
              "0  I`d have responded, if I were going   neutral\n",
              "1                             Sooo SAD  negative\n",
              "2                          bullying me  negative\n",
              "3                       leave me alone  negative\n",
              "4                        Sons of ****,  negative"
            ],
            "text/html": [
              "\n",
              "  <div id=\"df-0ece9204-294f-4bae-9526-6d2e4b4ceace\" class=\"colab-df-container\">\n",
              "    <div>\n",
              "<style scoped>\n",
              "    .dataframe tbody tr th:only-of-type {\n",
              "        vertical-align: middle;\n",
              "    }\n",
              "\n",
              "    .dataframe tbody tr th {\n",
              "        vertical-align: top;\n",
              "    }\n",
              "\n",
              "    .dataframe thead th {\n",
              "        text-align: right;\n",
              "    }\n",
              "</style>\n",
              "<table border=\"1\" class=\"dataframe\">\n",
              "  <thead>\n",
              "    <tr style=\"text-align: right;\">\n",
              "      <th></th>\n",
              "      <th>selected_text</th>\n",
              "      <th>sentiment</th>\n",
              "    </tr>\n",
              "  </thead>\n",
              "  <tbody>\n",
              "    <tr>\n",
              "      <th>0</th>\n",
              "      <td>I`d have responded, if I were going</td>\n",
              "      <td>neutral</td>\n",
              "    </tr>\n",
              "    <tr>\n",
              "      <th>1</th>\n",
              "      <td>Sooo SAD</td>\n",
              "      <td>negative</td>\n",
              "    </tr>\n",
              "    <tr>\n",
              "      <th>2</th>\n",
              "      <td>bullying me</td>\n",
              "      <td>negative</td>\n",
              "    </tr>\n",
              "    <tr>\n",
              "      <th>3</th>\n",
              "      <td>leave me alone</td>\n",
              "      <td>negative</td>\n",
              "    </tr>\n",
              "    <tr>\n",
              "      <th>4</th>\n",
              "      <td>Sons of ****,</td>\n",
              "      <td>negative</td>\n",
              "    </tr>\n",
              "  </tbody>\n",
              "</table>\n",
              "</div>\n",
              "    <div class=\"colab-df-buttons\">\n",
              "\n",
              "  <div class=\"colab-df-container\">\n",
              "    <button class=\"colab-df-convert\" onclick=\"convertToInteractive('df-0ece9204-294f-4bae-9526-6d2e4b4ceace')\"\n",
              "            title=\"Convert this dataframe to an interactive table.\"\n",
              "            style=\"display:none;\">\n",
              "\n",
              "  <svg xmlns=\"http://www.w3.org/2000/svg\" height=\"24px\" viewBox=\"0 -960 960 960\">\n",
              "    <path d=\"M120-120v-720h720v720H120Zm60-500h600v-160H180v160Zm220 220h160v-160H400v160Zm0 220h160v-160H400v160ZM180-400h160v-160H180v160Zm440 0h160v-160H620v160ZM180-180h160v-160H180v160Zm440 0h160v-160H620v160Z\"/>\n",
              "  </svg>\n",
              "    </button>\n",
              "\n",
              "  <style>\n",
              "    .colab-df-container {\n",
              "      display:flex;\n",
              "      gap: 12px;\n",
              "    }\n",
              "\n",
              "    .colab-df-convert {\n",
              "      background-color: #E8F0FE;\n",
              "      border: none;\n",
              "      border-radius: 50%;\n",
              "      cursor: pointer;\n",
              "      display: none;\n",
              "      fill: #1967D2;\n",
              "      height: 32px;\n",
              "      padding: 0 0 0 0;\n",
              "      width: 32px;\n",
              "    }\n",
              "\n",
              "    .colab-df-convert:hover {\n",
              "      background-color: #E2EBFA;\n",
              "      box-shadow: 0px 1px 2px rgba(60, 64, 67, 0.3), 0px 1px 3px 1px rgba(60, 64, 67, 0.15);\n",
              "      fill: #174EA6;\n",
              "    }\n",
              "\n",
              "    .colab-df-buttons div {\n",
              "      margin-bottom: 4px;\n",
              "    }\n",
              "\n",
              "    [theme=dark] .colab-df-convert {\n",
              "      background-color: #3B4455;\n",
              "      fill: #D2E3FC;\n",
              "    }\n",
              "\n",
              "    [theme=dark] .colab-df-convert:hover {\n",
              "      background-color: #434B5C;\n",
              "      box-shadow: 0px 1px 3px 1px rgba(0, 0, 0, 0.15);\n",
              "      filter: drop-shadow(0px 1px 2px rgba(0, 0, 0, 0.3));\n",
              "      fill: #FFFFFF;\n",
              "    }\n",
              "  </style>\n",
              "\n",
              "    <script>\n",
              "      const buttonEl =\n",
              "        document.querySelector('#df-0ece9204-294f-4bae-9526-6d2e4b4ceace button.colab-df-convert');\n",
              "      buttonEl.style.display =\n",
              "        google.colab.kernel.accessAllowed ? 'block' : 'none';\n",
              "\n",
              "      async function convertToInteractive(key) {\n",
              "        const element = document.querySelector('#df-0ece9204-294f-4bae-9526-6d2e4b4ceace');\n",
              "        const dataTable =\n",
              "          await google.colab.kernel.invokeFunction('convertToInteractive',\n",
              "                                                    [key], {});\n",
              "        if (!dataTable) return;\n",
              "\n",
              "        const docLinkHtml = 'Like what you see? Visit the ' +\n",
              "          '<a target=\"_blank\" href=https://colab.research.google.com/notebooks/data_table.ipynb>data table notebook</a>'\n",
              "          + ' to learn more about interactive tables.';\n",
              "        element.innerHTML = '';\n",
              "        dataTable['output_type'] = 'display_data';\n",
              "        await google.colab.output.renderOutput(dataTable, element);\n",
              "        const docLink = document.createElement('div');\n",
              "        docLink.innerHTML = docLinkHtml;\n",
              "        element.appendChild(docLink);\n",
              "      }\n",
              "    </script>\n",
              "  </div>\n",
              "\n",
              "\n",
              "<div id=\"df-61db4d46-9edd-4c5a-8a90-45b144253763\">\n",
              "  <button class=\"colab-df-quickchart\" onclick=\"quickchart('df-61db4d46-9edd-4c5a-8a90-45b144253763')\"\n",
              "            title=\"Suggest charts\"\n",
              "            style=\"display:none;\">\n",
              "\n",
              "<svg xmlns=\"http://www.w3.org/2000/svg\" height=\"24px\"viewBox=\"0 0 24 24\"\n",
              "     width=\"24px\">\n",
              "    <g>\n",
              "        <path d=\"M19 3H5c-1.1 0-2 .9-2 2v14c0 1.1.9 2 2 2h14c1.1 0 2-.9 2-2V5c0-1.1-.9-2-2-2zM9 17H7v-7h2v7zm4 0h-2V7h2v10zm4 0h-2v-4h2v4z\"/>\n",
              "    </g>\n",
              "</svg>\n",
              "  </button>\n",
              "\n",
              "<style>\n",
              "  .colab-df-quickchart {\n",
              "      --bg-color: #E8F0FE;\n",
              "      --fill-color: #1967D2;\n",
              "      --hover-bg-color: #E2EBFA;\n",
              "      --hover-fill-color: #174EA6;\n",
              "      --disabled-fill-color: #AAA;\n",
              "      --disabled-bg-color: #DDD;\n",
              "  }\n",
              "\n",
              "  [theme=dark] .colab-df-quickchart {\n",
              "      --bg-color: #3B4455;\n",
              "      --fill-color: #D2E3FC;\n",
              "      --hover-bg-color: #434B5C;\n",
              "      --hover-fill-color: #FFFFFF;\n",
              "      --disabled-bg-color: #3B4455;\n",
              "      --disabled-fill-color: #666;\n",
              "  }\n",
              "\n",
              "  .colab-df-quickchart {\n",
              "    background-color: var(--bg-color);\n",
              "    border: none;\n",
              "    border-radius: 50%;\n",
              "    cursor: pointer;\n",
              "    display: none;\n",
              "    fill: var(--fill-color);\n",
              "    height: 32px;\n",
              "    padding: 0;\n",
              "    width: 32px;\n",
              "  }\n",
              "\n",
              "  .colab-df-quickchart:hover {\n",
              "    background-color: var(--hover-bg-color);\n",
              "    box-shadow: 0 1px 2px rgba(60, 64, 67, 0.3), 0 1px 3px 1px rgba(60, 64, 67, 0.15);\n",
              "    fill: var(--button-hover-fill-color);\n",
              "  }\n",
              "\n",
              "  .colab-df-quickchart-complete:disabled,\n",
              "  .colab-df-quickchart-complete:disabled:hover {\n",
              "    background-color: var(--disabled-bg-color);\n",
              "    fill: var(--disabled-fill-color);\n",
              "    box-shadow: none;\n",
              "  }\n",
              "\n",
              "  .colab-df-spinner {\n",
              "    border: 2px solid var(--fill-color);\n",
              "    border-color: transparent;\n",
              "    border-bottom-color: var(--fill-color);\n",
              "    animation:\n",
              "      spin 1s steps(1) infinite;\n",
              "  }\n",
              "\n",
              "  @keyframes spin {\n",
              "    0% {\n",
              "      border-color: transparent;\n",
              "      border-bottom-color: var(--fill-color);\n",
              "      border-left-color: var(--fill-color);\n",
              "    }\n",
              "    20% {\n",
              "      border-color: transparent;\n",
              "      border-left-color: var(--fill-color);\n",
              "      border-top-color: var(--fill-color);\n",
              "    }\n",
              "    30% {\n",
              "      border-color: transparent;\n",
              "      border-left-color: var(--fill-color);\n",
              "      border-top-color: var(--fill-color);\n",
              "      border-right-color: var(--fill-color);\n",
              "    }\n",
              "    40% {\n",
              "      border-color: transparent;\n",
              "      border-right-color: var(--fill-color);\n",
              "      border-top-color: var(--fill-color);\n",
              "    }\n",
              "    60% {\n",
              "      border-color: transparent;\n",
              "      border-right-color: var(--fill-color);\n",
              "    }\n",
              "    80% {\n",
              "      border-color: transparent;\n",
              "      border-right-color: var(--fill-color);\n",
              "      border-bottom-color: var(--fill-color);\n",
              "    }\n",
              "    90% {\n",
              "      border-color: transparent;\n",
              "      border-bottom-color: var(--fill-color);\n",
              "    }\n",
              "  }\n",
              "</style>\n",
              "\n",
              "  <script>\n",
              "    async function quickchart(key) {\n",
              "      const quickchartButtonEl =\n",
              "        document.querySelector('#' + key + ' button');\n",
              "      quickchartButtonEl.disabled = true;  // To prevent multiple clicks.\n",
              "      quickchartButtonEl.classList.add('colab-df-spinner');\n",
              "      try {\n",
              "        const charts = await google.colab.kernel.invokeFunction(\n",
              "            'suggestCharts', [key], {});\n",
              "      } catch (error) {\n",
              "        console.error('Error during call to suggestCharts:', error);\n",
              "      }\n",
              "      quickchartButtonEl.classList.remove('colab-df-spinner');\n",
              "      quickchartButtonEl.classList.add('colab-df-quickchart-complete');\n",
              "    }\n",
              "    (() => {\n",
              "      let quickchartButtonEl =\n",
              "        document.querySelector('#df-61db4d46-9edd-4c5a-8a90-45b144253763 button');\n",
              "      quickchartButtonEl.style.display =\n",
              "        google.colab.kernel.accessAllowed ? 'block' : 'none';\n",
              "    })();\n",
              "  </script>\n",
              "</div>\n",
              "\n",
              "    </div>\n",
              "  </div>\n"
            ],
            "application/vnd.google.colaboratory.intrinsic+json": {
              "type": "dataframe",
              "variable_name": "data1",
              "summary": "{\n  \"name\": \"data1\",\n  \"rows\": 27481,\n  \"fields\": [\n    {\n      \"column\": \"selected_text\",\n      \"properties\": {\n        \"dtype\": \"string\",\n        \"num_unique_values\": 22463,\n        \"samples\": [\n          \"we win\",\n          \"YES!!! haahaaa.! break out the jellybeaniesss!\",\n          \"hay wats ur AIM? we should chat\"\n        ],\n        \"semantic_type\": \"\",\n        \"description\": \"\"\n      }\n    },\n    {\n      \"column\": \"sentiment\",\n      \"properties\": {\n        \"dtype\": \"category\",\n        \"num_unique_values\": 3,\n        \"samples\": [\n          \"neutral\",\n          \"negative\",\n          \"positive\"\n        ],\n        \"semantic_type\": \"\",\n        \"description\": \"\"\n      }\n    }\n  ]\n}"
            }
          },
          "metadata": {},
          "execution_count": 5
        }
      ],
      "source": [
        "#droping coulmns\n",
        "data1 = data.drop(['textID','text'], axis=1)\n",
        "data1.head()"
      ]
    },
    {
      "cell_type": "code",
      "execution_count": 6,
      "metadata": {
        "colab": {
          "base_uri": "https://localhost:8080/",
          "height": 146
        },
        "id": "os5EIWyJNkds",
        "outputId": "e3d1ac12-eb93-479a-b8ac-b84664754e30"
      },
      "outputs": [
        {
          "output_type": "execute_result",
          "data": {
            "text/plain": [
              "selected_text    1\n",
              "sentiment        0\n",
              "dtype: int64"
            ],
            "text/html": [
              "<div>\n",
              "<style scoped>\n",
              "    .dataframe tbody tr th:only-of-type {\n",
              "        vertical-align: middle;\n",
              "    }\n",
              "\n",
              "    .dataframe tbody tr th {\n",
              "        vertical-align: top;\n",
              "    }\n",
              "\n",
              "    .dataframe thead th {\n",
              "        text-align: right;\n",
              "    }\n",
              "</style>\n",
              "<table border=\"1\" class=\"dataframe\">\n",
              "  <thead>\n",
              "    <tr style=\"text-align: right;\">\n",
              "      <th></th>\n",
              "      <th>0</th>\n",
              "    </tr>\n",
              "  </thead>\n",
              "  <tbody>\n",
              "    <tr>\n",
              "      <th>selected_text</th>\n",
              "      <td>1</td>\n",
              "    </tr>\n",
              "    <tr>\n",
              "      <th>sentiment</th>\n",
              "      <td>0</td>\n",
              "    </tr>\n",
              "  </tbody>\n",
              "</table>\n",
              "</div><br><label><b>dtype:</b> int64</label>"
            ]
          },
          "metadata": {},
          "execution_count": 6
        }
      ],
      "source": [
        "data1.isnull().sum()"
      ]
    },
    {
      "cell_type": "code",
      "execution_count": 7,
      "metadata": {
        "colab": {
          "base_uri": "https://localhost:8080/",
          "height": 146
        },
        "id": "3antxTEHOoh9",
        "outputId": "11612bdd-cea7-4027-9610-f4a21b1cbd0a"
      },
      "outputs": [
        {
          "output_type": "execute_result",
          "data": {
            "text/plain": [
              "selected_text    0\n",
              "sentiment        0\n",
              "dtype: int64"
            ],
            "text/html": [
              "<div>\n",
              "<style scoped>\n",
              "    .dataframe tbody tr th:only-of-type {\n",
              "        vertical-align: middle;\n",
              "    }\n",
              "\n",
              "    .dataframe tbody tr th {\n",
              "        vertical-align: top;\n",
              "    }\n",
              "\n",
              "    .dataframe thead th {\n",
              "        text-align: right;\n",
              "    }\n",
              "</style>\n",
              "<table border=\"1\" class=\"dataframe\">\n",
              "  <thead>\n",
              "    <tr style=\"text-align: right;\">\n",
              "      <th></th>\n",
              "      <th>0</th>\n",
              "    </tr>\n",
              "  </thead>\n",
              "  <tbody>\n",
              "    <tr>\n",
              "      <th>selected_text</th>\n",
              "      <td>0</td>\n",
              "    </tr>\n",
              "    <tr>\n",
              "      <th>sentiment</th>\n",
              "      <td>0</td>\n",
              "    </tr>\n",
              "  </tbody>\n",
              "</table>\n",
              "</div><br><label><b>dtype:</b> int64</label>"
            ]
          },
          "metadata": {},
          "execution_count": 7
        }
      ],
      "source": [
        "#fill using mode selected_text\n",
        "data1['selected_text'] = data1['selected_text'].fillna(data1['selected_text'].mode()[0])\n",
        "data1.isnull().sum()"
      ]
    },
    {
      "cell_type": "code",
      "execution_count": 8,
      "metadata": {
        "colab": {
          "base_uri": "https://localhost:8080/"
        },
        "id": "nXhhtSVOO2pj",
        "outputId": "be6095a7-4239-4f6a-8e3e-7e549e34069b"
      },
      "outputs": [
        {
          "output_type": "stream",
          "name": "stderr",
          "text": [
            "[nltk_data] Downloading package stopwords to /root/nltk_data...\n",
            "[nltk_data]   Unzipping corpora/stopwords.zip.\n"
          ]
        },
        {
          "output_type": "stream",
          "name": "stdout",
          "text": [
            "hello world this is an example text with numbers and specialcharacters\n"
          ]
        }
      ],
      "source": [
        "import re\n",
        "import nltk\n",
        "from nltk.corpus import stopwords\n",
        "\n",
        "nltk.download('stopwords')\n",
        "STOPWORDS = set(stopwords.words('english'))\n",
        "\n",
        "def clean_text(text):\n",
        "    # Remove URLs\n",
        "    text = re.sub(r'http\\S+', '', text)\n",
        "    # Remove HTML tags\n",
        "    text = re.sub(r'<.*?>', '', text)\n",
        "    text = re.sub(r'[^a-zA-Z\\s]', '', text)\n",
        "    # Remove special characters and digits\n",
        "    text = re.sub(r'\\d+', '', text)\n",
        "    # Convert to lowercase\n",
        "    text = text.lower()\n",
        "    # Remove stopwords\n",
        "    text = ' '.join([word for word in text.split() if word not in STOPWORDS])\n",
        "    return text\n",
        "    import re\n",
        "\n",
        "def clean_text(text):\n",
        "    # Remove punctuation and symbols\n",
        "    text = re.sub(r'[^\\w\\s]', '', text)\n",
        "    # Remove common numbers\n",
        "    text = re.sub(r'\\b\\d+\\b', '', text)\n",
        "    # Remove underscores and replace with spaces\n",
        "    text = re.sub(r'_', ' ', text)\n",
        "    # Convert to lowercase\n",
        "    text = text.lower()\n",
        "    # Remove extra spaces\n",
        "    text = re.sub(r'\\s+', ' ', text).strip()\n",
        "    return text\n",
        "\n",
        "# Example usage\n",
        "text = \"Hello, world! This is an example_text with numbers 123 and special@characters.\"\n",
        "cleaned_text = clean_text(text)\n",
        "print(cleaned_text)\n",
        "\n",
        "\n",
        "# Apply the cleaning function to the 'text' column\n",
        "data1['cleaned_text'] = data1['selected_text'].apply(clean_text)\n"
      ]
    },
    {
      "cell_type": "code",
      "execution_count": 9,
      "metadata": {
        "colab": {
          "base_uri": "https://localhost:8080/",
          "height": 989
        },
        "id": "9ZjJ0zBdPcR3",
        "outputId": "3e6caac6-d1a3-4526-ee5a-4cb1e843fa77"
      },
      "outputs": [
        {
          "output_type": "execute_result",
          "data": {
            "text/plain": [
              "                                        selected_text sentiment  \\\n",
              "0                 I`d have responded, if I were going   neutral   \n",
              "1                                            Sooo SAD  negative   \n",
              "2                                         bullying me  negative   \n",
              "3                                      leave me alone  negative   \n",
              "4                                       Sons of ****,  negative   \n",
              "5   http://www.dothebouncy.com/smf - some shameles...   neutral   \n",
              "6                                                 fun  positive   \n",
              "7                                          Soooo high   neutral   \n",
              "8                                         Both of you   neutral   \n",
              "9                        Wow... u just became cooler.  positive   \n",
              "10  as much as i love to be hopeful, i reckon the ...   neutral   \n",
              "11                                               like  positive   \n",
              "12                                        DANGERously  negative   \n",
              "13                                               lost  negative   \n",
              "14                         test test from the LG enV2   neutral   \n",
              "15                              Uh oh, I am sunburned  negative   \n",
              "16                                             *sigh*  negative   \n",
              "17                                               sick  negative   \n",
              "18                                               onna  negative   \n",
              "19                         Hes just not that into you   neutral   \n",
              "20  oh Marly, I`m so sorry!!  I hope you find her ...   neutral   \n",
              "21                                       interesting.  positive   \n",
              "22  is cleaning the house for her family who is co...   neutral   \n",
              "23  gotta restart my computer .. I thought Win7 wa...   neutral   \n",
              "24  SEe waT I Mean bOuT FoLL0w fRiiDaYs... It`S cA...   neutral   \n",
              "25  the free fillin` app on my ipod is fun, im add...  positive   \n",
              "26                                         I`m sorry.  negative   \n",
              "27                                       .no internet  negative   \n",
              "28                                                fun  positive   \n",
              "29                      Power back up not working too  negative   \n",
              "\n",
              "                                         cleaned_text  \n",
              "0                   id have responded if i were going  \n",
              "1                                            sooo sad  \n",
              "2                                         bullying me  \n",
              "3                                      leave me alone  \n",
              "4                                             sons of  \n",
              "5   httpwwwdothebouncycomsmf some shameless pluggi...  \n",
              "6                                                 fun  \n",
              "7                                          soooo high  \n",
              "8                                         both of you  \n",
              "9                            wow u just became cooler  \n",
              "10  as much as i love to be hopeful i reckon the c...  \n",
              "11                                               like  \n",
              "12                                        dangerously  \n",
              "13                                               lost  \n",
              "14                         test test from the lg env2  \n",
              "15                               uh oh i am sunburned  \n",
              "16                                               sigh  \n",
              "17                                               sick  \n",
              "18                                               onna  \n",
              "19                         hes just not that into you  \n",
              "20      oh marly im so sorry i hope you find her soon  \n",
              "21                                        interesting  \n",
              "22  is cleaning the house for her family who is co...  \n",
              "23  gotta restart my computer i thought win7 was s...  \n",
              "24  see wat i mean bout foll0w friidays its called...  \n",
              "25  the free fillin app on my ipod is fun im addicted  \n",
              "26                                           im sorry  \n",
              "27                                        no internet  \n",
              "28                                                fun  \n",
              "29                      power back up not working too  "
            ],
            "text/html": [
              "\n",
              "  <div id=\"df-edfdd116-6cf2-4be5-a6be-943fd5f2065e\" class=\"colab-df-container\">\n",
              "    <div>\n",
              "<style scoped>\n",
              "    .dataframe tbody tr th:only-of-type {\n",
              "        vertical-align: middle;\n",
              "    }\n",
              "\n",
              "    .dataframe tbody tr th {\n",
              "        vertical-align: top;\n",
              "    }\n",
              "\n",
              "    .dataframe thead th {\n",
              "        text-align: right;\n",
              "    }\n",
              "</style>\n",
              "<table border=\"1\" class=\"dataframe\">\n",
              "  <thead>\n",
              "    <tr style=\"text-align: right;\">\n",
              "      <th></th>\n",
              "      <th>selected_text</th>\n",
              "      <th>sentiment</th>\n",
              "      <th>cleaned_text</th>\n",
              "    </tr>\n",
              "  </thead>\n",
              "  <tbody>\n",
              "    <tr>\n",
              "      <th>0</th>\n",
              "      <td>I`d have responded, if I were going</td>\n",
              "      <td>neutral</td>\n",
              "      <td>id have responded if i were going</td>\n",
              "    </tr>\n",
              "    <tr>\n",
              "      <th>1</th>\n",
              "      <td>Sooo SAD</td>\n",
              "      <td>negative</td>\n",
              "      <td>sooo sad</td>\n",
              "    </tr>\n",
              "    <tr>\n",
              "      <th>2</th>\n",
              "      <td>bullying me</td>\n",
              "      <td>negative</td>\n",
              "      <td>bullying me</td>\n",
              "    </tr>\n",
              "    <tr>\n",
              "      <th>3</th>\n",
              "      <td>leave me alone</td>\n",
              "      <td>negative</td>\n",
              "      <td>leave me alone</td>\n",
              "    </tr>\n",
              "    <tr>\n",
              "      <th>4</th>\n",
              "      <td>Sons of ****,</td>\n",
              "      <td>negative</td>\n",
              "      <td>sons of</td>\n",
              "    </tr>\n",
              "    <tr>\n",
              "      <th>5</th>\n",
              "      <td>http://www.dothebouncy.com/smf - some shameles...</td>\n",
              "      <td>neutral</td>\n",
              "      <td>httpwwwdothebouncycomsmf some shameless pluggi...</td>\n",
              "    </tr>\n",
              "    <tr>\n",
              "      <th>6</th>\n",
              "      <td>fun</td>\n",
              "      <td>positive</td>\n",
              "      <td>fun</td>\n",
              "    </tr>\n",
              "    <tr>\n",
              "      <th>7</th>\n",
              "      <td>Soooo high</td>\n",
              "      <td>neutral</td>\n",
              "      <td>soooo high</td>\n",
              "    </tr>\n",
              "    <tr>\n",
              "      <th>8</th>\n",
              "      <td>Both of you</td>\n",
              "      <td>neutral</td>\n",
              "      <td>both of you</td>\n",
              "    </tr>\n",
              "    <tr>\n",
              "      <th>9</th>\n",
              "      <td>Wow... u just became cooler.</td>\n",
              "      <td>positive</td>\n",
              "      <td>wow u just became cooler</td>\n",
              "    </tr>\n",
              "    <tr>\n",
              "      <th>10</th>\n",
              "      <td>as much as i love to be hopeful, i reckon the ...</td>\n",
              "      <td>neutral</td>\n",
              "      <td>as much as i love to be hopeful i reckon the c...</td>\n",
              "    </tr>\n",
              "    <tr>\n",
              "      <th>11</th>\n",
              "      <td>like</td>\n",
              "      <td>positive</td>\n",
              "      <td>like</td>\n",
              "    </tr>\n",
              "    <tr>\n",
              "      <th>12</th>\n",
              "      <td>DANGERously</td>\n",
              "      <td>negative</td>\n",
              "      <td>dangerously</td>\n",
              "    </tr>\n",
              "    <tr>\n",
              "      <th>13</th>\n",
              "      <td>lost</td>\n",
              "      <td>negative</td>\n",
              "      <td>lost</td>\n",
              "    </tr>\n",
              "    <tr>\n",
              "      <th>14</th>\n",
              "      <td>test test from the LG enV2</td>\n",
              "      <td>neutral</td>\n",
              "      <td>test test from the lg env2</td>\n",
              "    </tr>\n",
              "    <tr>\n",
              "      <th>15</th>\n",
              "      <td>Uh oh, I am sunburned</td>\n",
              "      <td>negative</td>\n",
              "      <td>uh oh i am sunburned</td>\n",
              "    </tr>\n",
              "    <tr>\n",
              "      <th>16</th>\n",
              "      <td>*sigh*</td>\n",
              "      <td>negative</td>\n",
              "      <td>sigh</td>\n",
              "    </tr>\n",
              "    <tr>\n",
              "      <th>17</th>\n",
              "      <td>sick</td>\n",
              "      <td>negative</td>\n",
              "      <td>sick</td>\n",
              "    </tr>\n",
              "    <tr>\n",
              "      <th>18</th>\n",
              "      <td>onna</td>\n",
              "      <td>negative</td>\n",
              "      <td>onna</td>\n",
              "    </tr>\n",
              "    <tr>\n",
              "      <th>19</th>\n",
              "      <td>Hes just not that into you</td>\n",
              "      <td>neutral</td>\n",
              "      <td>hes just not that into you</td>\n",
              "    </tr>\n",
              "    <tr>\n",
              "      <th>20</th>\n",
              "      <td>oh Marly, I`m so sorry!!  I hope you find her ...</td>\n",
              "      <td>neutral</td>\n",
              "      <td>oh marly im so sorry i hope you find her soon</td>\n",
              "    </tr>\n",
              "    <tr>\n",
              "      <th>21</th>\n",
              "      <td>interesting.</td>\n",
              "      <td>positive</td>\n",
              "      <td>interesting</td>\n",
              "    </tr>\n",
              "    <tr>\n",
              "      <th>22</th>\n",
              "      <td>is cleaning the house for her family who is co...</td>\n",
              "      <td>neutral</td>\n",
              "      <td>is cleaning the house for her family who is co...</td>\n",
              "    </tr>\n",
              "    <tr>\n",
              "      <th>23</th>\n",
              "      <td>gotta restart my computer .. I thought Win7 wa...</td>\n",
              "      <td>neutral</td>\n",
              "      <td>gotta restart my computer i thought win7 was s...</td>\n",
              "    </tr>\n",
              "    <tr>\n",
              "      <th>24</th>\n",
              "      <td>SEe waT I Mean bOuT FoLL0w fRiiDaYs... It`S cA...</td>\n",
              "      <td>neutral</td>\n",
              "      <td>see wat i mean bout foll0w friidays its called...</td>\n",
              "    </tr>\n",
              "    <tr>\n",
              "      <th>25</th>\n",
              "      <td>the free fillin` app on my ipod is fun, im add...</td>\n",
              "      <td>positive</td>\n",
              "      <td>the free fillin app on my ipod is fun im addicted</td>\n",
              "    </tr>\n",
              "    <tr>\n",
              "      <th>26</th>\n",
              "      <td>I`m sorry.</td>\n",
              "      <td>negative</td>\n",
              "      <td>im sorry</td>\n",
              "    </tr>\n",
              "    <tr>\n",
              "      <th>27</th>\n",
              "      <td>.no internet</td>\n",
              "      <td>negative</td>\n",
              "      <td>no internet</td>\n",
              "    </tr>\n",
              "    <tr>\n",
              "      <th>28</th>\n",
              "      <td>fun</td>\n",
              "      <td>positive</td>\n",
              "      <td>fun</td>\n",
              "    </tr>\n",
              "    <tr>\n",
              "      <th>29</th>\n",
              "      <td>Power back up not working too</td>\n",
              "      <td>negative</td>\n",
              "      <td>power back up not working too</td>\n",
              "    </tr>\n",
              "  </tbody>\n",
              "</table>\n",
              "</div>\n",
              "    <div class=\"colab-df-buttons\">\n",
              "\n",
              "  <div class=\"colab-df-container\">\n",
              "    <button class=\"colab-df-convert\" onclick=\"convertToInteractive('df-edfdd116-6cf2-4be5-a6be-943fd5f2065e')\"\n",
              "            title=\"Convert this dataframe to an interactive table.\"\n",
              "            style=\"display:none;\">\n",
              "\n",
              "  <svg xmlns=\"http://www.w3.org/2000/svg\" height=\"24px\" viewBox=\"0 -960 960 960\">\n",
              "    <path d=\"M120-120v-720h720v720H120Zm60-500h600v-160H180v160Zm220 220h160v-160H400v160Zm0 220h160v-160H400v160ZM180-400h160v-160H180v160Zm440 0h160v-160H620v160ZM180-180h160v-160H180v160Zm440 0h160v-160H620v160Z\"/>\n",
              "  </svg>\n",
              "    </button>\n",
              "\n",
              "  <style>\n",
              "    .colab-df-container {\n",
              "      display:flex;\n",
              "      gap: 12px;\n",
              "    }\n",
              "\n",
              "    .colab-df-convert {\n",
              "      background-color: #E8F0FE;\n",
              "      border: none;\n",
              "      border-radius: 50%;\n",
              "      cursor: pointer;\n",
              "      display: none;\n",
              "      fill: #1967D2;\n",
              "      height: 32px;\n",
              "      padding: 0 0 0 0;\n",
              "      width: 32px;\n",
              "    }\n",
              "\n",
              "    .colab-df-convert:hover {\n",
              "      background-color: #E2EBFA;\n",
              "      box-shadow: 0px 1px 2px rgba(60, 64, 67, 0.3), 0px 1px 3px 1px rgba(60, 64, 67, 0.15);\n",
              "      fill: #174EA6;\n",
              "    }\n",
              "\n",
              "    .colab-df-buttons div {\n",
              "      margin-bottom: 4px;\n",
              "    }\n",
              "\n",
              "    [theme=dark] .colab-df-convert {\n",
              "      background-color: #3B4455;\n",
              "      fill: #D2E3FC;\n",
              "    }\n",
              "\n",
              "    [theme=dark] .colab-df-convert:hover {\n",
              "      background-color: #434B5C;\n",
              "      box-shadow: 0px 1px 3px 1px rgba(0, 0, 0, 0.15);\n",
              "      filter: drop-shadow(0px 1px 2px rgba(0, 0, 0, 0.3));\n",
              "      fill: #FFFFFF;\n",
              "    }\n",
              "  </style>\n",
              "\n",
              "    <script>\n",
              "      const buttonEl =\n",
              "        document.querySelector('#df-edfdd116-6cf2-4be5-a6be-943fd5f2065e button.colab-df-convert');\n",
              "      buttonEl.style.display =\n",
              "        google.colab.kernel.accessAllowed ? 'block' : 'none';\n",
              "\n",
              "      async function convertToInteractive(key) {\n",
              "        const element = document.querySelector('#df-edfdd116-6cf2-4be5-a6be-943fd5f2065e');\n",
              "        const dataTable =\n",
              "          await google.colab.kernel.invokeFunction('convertToInteractive',\n",
              "                                                    [key], {});\n",
              "        if (!dataTable) return;\n",
              "\n",
              "        const docLinkHtml = 'Like what you see? Visit the ' +\n",
              "          '<a target=\"_blank\" href=https://colab.research.google.com/notebooks/data_table.ipynb>data table notebook</a>'\n",
              "          + ' to learn more about interactive tables.';\n",
              "        element.innerHTML = '';\n",
              "        dataTable['output_type'] = 'display_data';\n",
              "        await google.colab.output.renderOutput(dataTable, element);\n",
              "        const docLink = document.createElement('div');\n",
              "        docLink.innerHTML = docLinkHtml;\n",
              "        element.appendChild(docLink);\n",
              "      }\n",
              "    </script>\n",
              "  </div>\n",
              "\n",
              "\n",
              "<div id=\"df-3cef38cf-e072-4bc7-a821-0a8756cfc0c6\">\n",
              "  <button class=\"colab-df-quickchart\" onclick=\"quickchart('df-3cef38cf-e072-4bc7-a821-0a8756cfc0c6')\"\n",
              "            title=\"Suggest charts\"\n",
              "            style=\"display:none;\">\n",
              "\n",
              "<svg xmlns=\"http://www.w3.org/2000/svg\" height=\"24px\"viewBox=\"0 0 24 24\"\n",
              "     width=\"24px\">\n",
              "    <g>\n",
              "        <path d=\"M19 3H5c-1.1 0-2 .9-2 2v14c0 1.1.9 2 2 2h14c1.1 0 2-.9 2-2V5c0-1.1-.9-2-2-2zM9 17H7v-7h2v7zm4 0h-2V7h2v10zm4 0h-2v-4h2v4z\"/>\n",
              "    </g>\n",
              "</svg>\n",
              "  </button>\n",
              "\n",
              "<style>\n",
              "  .colab-df-quickchart {\n",
              "      --bg-color: #E8F0FE;\n",
              "      --fill-color: #1967D2;\n",
              "      --hover-bg-color: #E2EBFA;\n",
              "      --hover-fill-color: #174EA6;\n",
              "      --disabled-fill-color: #AAA;\n",
              "      --disabled-bg-color: #DDD;\n",
              "  }\n",
              "\n",
              "  [theme=dark] .colab-df-quickchart {\n",
              "      --bg-color: #3B4455;\n",
              "      --fill-color: #D2E3FC;\n",
              "      --hover-bg-color: #434B5C;\n",
              "      --hover-fill-color: #FFFFFF;\n",
              "      --disabled-bg-color: #3B4455;\n",
              "      --disabled-fill-color: #666;\n",
              "  }\n",
              "\n",
              "  .colab-df-quickchart {\n",
              "    background-color: var(--bg-color);\n",
              "    border: none;\n",
              "    border-radius: 50%;\n",
              "    cursor: pointer;\n",
              "    display: none;\n",
              "    fill: var(--fill-color);\n",
              "    height: 32px;\n",
              "    padding: 0;\n",
              "    width: 32px;\n",
              "  }\n",
              "\n",
              "  .colab-df-quickchart:hover {\n",
              "    background-color: var(--hover-bg-color);\n",
              "    box-shadow: 0 1px 2px rgba(60, 64, 67, 0.3), 0 1px 3px 1px rgba(60, 64, 67, 0.15);\n",
              "    fill: var(--button-hover-fill-color);\n",
              "  }\n",
              "\n",
              "  .colab-df-quickchart-complete:disabled,\n",
              "  .colab-df-quickchart-complete:disabled:hover {\n",
              "    background-color: var(--disabled-bg-color);\n",
              "    fill: var(--disabled-fill-color);\n",
              "    box-shadow: none;\n",
              "  }\n",
              "\n",
              "  .colab-df-spinner {\n",
              "    border: 2px solid var(--fill-color);\n",
              "    border-color: transparent;\n",
              "    border-bottom-color: var(--fill-color);\n",
              "    animation:\n",
              "      spin 1s steps(1) infinite;\n",
              "  }\n",
              "\n",
              "  @keyframes spin {\n",
              "    0% {\n",
              "      border-color: transparent;\n",
              "      border-bottom-color: var(--fill-color);\n",
              "      border-left-color: var(--fill-color);\n",
              "    }\n",
              "    20% {\n",
              "      border-color: transparent;\n",
              "      border-left-color: var(--fill-color);\n",
              "      border-top-color: var(--fill-color);\n",
              "    }\n",
              "    30% {\n",
              "      border-color: transparent;\n",
              "      border-left-color: var(--fill-color);\n",
              "      border-top-color: var(--fill-color);\n",
              "      border-right-color: var(--fill-color);\n",
              "    }\n",
              "    40% {\n",
              "      border-color: transparent;\n",
              "      border-right-color: var(--fill-color);\n",
              "      border-top-color: var(--fill-color);\n",
              "    }\n",
              "    60% {\n",
              "      border-color: transparent;\n",
              "      border-right-color: var(--fill-color);\n",
              "    }\n",
              "    80% {\n",
              "      border-color: transparent;\n",
              "      border-right-color: var(--fill-color);\n",
              "      border-bottom-color: var(--fill-color);\n",
              "    }\n",
              "    90% {\n",
              "      border-color: transparent;\n",
              "      border-bottom-color: var(--fill-color);\n",
              "    }\n",
              "  }\n",
              "</style>\n",
              "\n",
              "  <script>\n",
              "    async function quickchart(key) {\n",
              "      const quickchartButtonEl =\n",
              "        document.querySelector('#' + key + ' button');\n",
              "      quickchartButtonEl.disabled = true;  // To prevent multiple clicks.\n",
              "      quickchartButtonEl.classList.add('colab-df-spinner');\n",
              "      try {\n",
              "        const charts = await google.colab.kernel.invokeFunction(\n",
              "            'suggestCharts', [key], {});\n",
              "      } catch (error) {\n",
              "        console.error('Error during call to suggestCharts:', error);\n",
              "      }\n",
              "      quickchartButtonEl.classList.remove('colab-df-spinner');\n",
              "      quickchartButtonEl.classList.add('colab-df-quickchart-complete');\n",
              "    }\n",
              "    (() => {\n",
              "      let quickchartButtonEl =\n",
              "        document.querySelector('#df-3cef38cf-e072-4bc7-a821-0a8756cfc0c6 button');\n",
              "      quickchartButtonEl.style.display =\n",
              "        google.colab.kernel.accessAllowed ? 'block' : 'none';\n",
              "    })();\n",
              "  </script>\n",
              "</div>\n",
              "\n",
              "    </div>\n",
              "  </div>\n"
            ],
            "application/vnd.google.colaboratory.intrinsic+json": {
              "type": "dataframe",
              "variable_name": "data1",
              "summary": "{\n  \"name\": \"data1\",\n  \"rows\": 27481,\n  \"fields\": [\n    {\n      \"column\": \"selected_text\",\n      \"properties\": {\n        \"dtype\": \"string\",\n        \"num_unique_values\": 22463,\n        \"samples\": [\n          \"we win\",\n          \"YES!!! haahaaa.! break out the jellybeaniesss!\",\n          \"hay wats ur AIM? we should chat\"\n        ],\n        \"semantic_type\": \"\",\n        \"description\": \"\"\n      }\n    },\n    {\n      \"column\": \"sentiment\",\n      \"properties\": {\n        \"dtype\": \"category\",\n        \"num_unique_values\": 3,\n        \"samples\": [\n          \"neutral\",\n          \"negative\",\n          \"positive\"\n        ],\n        \"semantic_type\": \"\",\n        \"description\": \"\"\n      }\n    },\n    {\n      \"column\": \"cleaned_text\",\n      \"properties\": {\n        \"dtype\": \"string\",\n        \"num_unique_values\": 20893,\n        \"samples\": [\n          \"my eyes are crossing\",\n          \"i will take lots of pics it is really pretty there lots of palm trees\",\n          \"error\"\n        ],\n        \"semantic_type\": \"\",\n        \"description\": \"\"\n      }\n    }\n  ]\n}"
            }
          },
          "metadata": {},
          "execution_count": 9
        }
      ],
      "source": [
        "data1.head(30)"
      ]
    },
    {
      "cell_type": "code",
      "execution_count": 10,
      "metadata": {
        "colab": {
          "base_uri": "https://localhost:8080/",
          "height": 469
        },
        "id": "4H6tcKorRaIW",
        "outputId": "8d349fb2-30cf-4bfc-8732-31772bf180f5"
      },
      "outputs": [
        {
          "output_type": "stream",
          "name": "stderr",
          "text": [
            "<ipython-input-10-b72b38d361ad>:3: SettingWithCopyWarning: \n",
            "A value is trying to be set on a copy of a slice from a DataFrame\n",
            "\n",
            "See the caveats in the documentation: https://pandas.pydata.org/pandas-docs/stable/user_guide/indexing.html#returning-a-view-versus-a-copy\n",
            "  data1.drop(['selected_text'], axis=1, inplace=True)\n"
          ]
        },
        {
          "output_type": "execute_result",
          "data": {
            "text/plain": [
              "                                        cleaned_text sentiment\n",
              "0                  id have responded if i were going   neutral\n",
              "1                                           sooo sad  negative\n",
              "2                                        bullying me  negative\n",
              "3                                     leave me alone  negative\n",
              "4                                            sons of  negative\n",
              "5  httpwwwdothebouncycomsmf some shameless pluggi...   neutral\n",
              "6                                                fun  positive\n",
              "7                                         soooo high   neutral\n",
              "8                                        both of you   neutral\n",
              "9                           wow u just became cooler  positive"
            ],
            "text/html": [
              "\n",
              "  <div id=\"df-9587343a-de91-472c-9000-82a21cd8abb8\" class=\"colab-df-container\">\n",
              "    <div>\n",
              "<style scoped>\n",
              "    .dataframe tbody tr th:only-of-type {\n",
              "        vertical-align: middle;\n",
              "    }\n",
              "\n",
              "    .dataframe tbody tr th {\n",
              "        vertical-align: top;\n",
              "    }\n",
              "\n",
              "    .dataframe thead th {\n",
              "        text-align: right;\n",
              "    }\n",
              "</style>\n",
              "<table border=\"1\" class=\"dataframe\">\n",
              "  <thead>\n",
              "    <tr style=\"text-align: right;\">\n",
              "      <th></th>\n",
              "      <th>cleaned_text</th>\n",
              "      <th>sentiment</th>\n",
              "    </tr>\n",
              "  </thead>\n",
              "  <tbody>\n",
              "    <tr>\n",
              "      <th>0</th>\n",
              "      <td>id have responded if i were going</td>\n",
              "      <td>neutral</td>\n",
              "    </tr>\n",
              "    <tr>\n",
              "      <th>1</th>\n",
              "      <td>sooo sad</td>\n",
              "      <td>negative</td>\n",
              "    </tr>\n",
              "    <tr>\n",
              "      <th>2</th>\n",
              "      <td>bullying me</td>\n",
              "      <td>negative</td>\n",
              "    </tr>\n",
              "    <tr>\n",
              "      <th>3</th>\n",
              "      <td>leave me alone</td>\n",
              "      <td>negative</td>\n",
              "    </tr>\n",
              "    <tr>\n",
              "      <th>4</th>\n",
              "      <td>sons of</td>\n",
              "      <td>negative</td>\n",
              "    </tr>\n",
              "    <tr>\n",
              "      <th>5</th>\n",
              "      <td>httpwwwdothebouncycomsmf some shameless pluggi...</td>\n",
              "      <td>neutral</td>\n",
              "    </tr>\n",
              "    <tr>\n",
              "      <th>6</th>\n",
              "      <td>fun</td>\n",
              "      <td>positive</td>\n",
              "    </tr>\n",
              "    <tr>\n",
              "      <th>7</th>\n",
              "      <td>soooo high</td>\n",
              "      <td>neutral</td>\n",
              "    </tr>\n",
              "    <tr>\n",
              "      <th>8</th>\n",
              "      <td>both of you</td>\n",
              "      <td>neutral</td>\n",
              "    </tr>\n",
              "    <tr>\n",
              "      <th>9</th>\n",
              "      <td>wow u just became cooler</td>\n",
              "      <td>positive</td>\n",
              "    </tr>\n",
              "  </tbody>\n",
              "</table>\n",
              "</div>\n",
              "    <div class=\"colab-df-buttons\">\n",
              "\n",
              "  <div class=\"colab-df-container\">\n",
              "    <button class=\"colab-df-convert\" onclick=\"convertToInteractive('df-9587343a-de91-472c-9000-82a21cd8abb8')\"\n",
              "            title=\"Convert this dataframe to an interactive table.\"\n",
              "            style=\"display:none;\">\n",
              "\n",
              "  <svg xmlns=\"http://www.w3.org/2000/svg\" height=\"24px\" viewBox=\"0 -960 960 960\">\n",
              "    <path d=\"M120-120v-720h720v720H120Zm60-500h600v-160H180v160Zm220 220h160v-160H400v160Zm0 220h160v-160H400v160ZM180-400h160v-160H180v160Zm440 0h160v-160H620v160ZM180-180h160v-160H180v160Zm440 0h160v-160H620v160Z\"/>\n",
              "  </svg>\n",
              "    </button>\n",
              "\n",
              "  <style>\n",
              "    .colab-df-container {\n",
              "      display:flex;\n",
              "      gap: 12px;\n",
              "    }\n",
              "\n",
              "    .colab-df-convert {\n",
              "      background-color: #E8F0FE;\n",
              "      border: none;\n",
              "      border-radius: 50%;\n",
              "      cursor: pointer;\n",
              "      display: none;\n",
              "      fill: #1967D2;\n",
              "      height: 32px;\n",
              "      padding: 0 0 0 0;\n",
              "      width: 32px;\n",
              "    }\n",
              "\n",
              "    .colab-df-convert:hover {\n",
              "      background-color: #E2EBFA;\n",
              "      box-shadow: 0px 1px 2px rgba(60, 64, 67, 0.3), 0px 1px 3px 1px rgba(60, 64, 67, 0.15);\n",
              "      fill: #174EA6;\n",
              "    }\n",
              "\n",
              "    .colab-df-buttons div {\n",
              "      margin-bottom: 4px;\n",
              "    }\n",
              "\n",
              "    [theme=dark] .colab-df-convert {\n",
              "      background-color: #3B4455;\n",
              "      fill: #D2E3FC;\n",
              "    }\n",
              "\n",
              "    [theme=dark] .colab-df-convert:hover {\n",
              "      background-color: #434B5C;\n",
              "      box-shadow: 0px 1px 3px 1px rgba(0, 0, 0, 0.15);\n",
              "      filter: drop-shadow(0px 1px 2px rgba(0, 0, 0, 0.3));\n",
              "      fill: #FFFFFF;\n",
              "    }\n",
              "  </style>\n",
              "\n",
              "    <script>\n",
              "      const buttonEl =\n",
              "        document.querySelector('#df-9587343a-de91-472c-9000-82a21cd8abb8 button.colab-df-convert');\n",
              "      buttonEl.style.display =\n",
              "        google.colab.kernel.accessAllowed ? 'block' : 'none';\n",
              "\n",
              "      async function convertToInteractive(key) {\n",
              "        const element = document.querySelector('#df-9587343a-de91-472c-9000-82a21cd8abb8');\n",
              "        const dataTable =\n",
              "          await google.colab.kernel.invokeFunction('convertToInteractive',\n",
              "                                                    [key], {});\n",
              "        if (!dataTable) return;\n",
              "\n",
              "        const docLinkHtml = 'Like what you see? Visit the ' +\n",
              "          '<a target=\"_blank\" href=https://colab.research.google.com/notebooks/data_table.ipynb>data table notebook</a>'\n",
              "          + ' to learn more about interactive tables.';\n",
              "        element.innerHTML = '';\n",
              "        dataTable['output_type'] = 'display_data';\n",
              "        await google.colab.output.renderOutput(dataTable, element);\n",
              "        const docLink = document.createElement('div');\n",
              "        docLink.innerHTML = docLinkHtml;\n",
              "        element.appendChild(docLink);\n",
              "      }\n",
              "    </script>\n",
              "  </div>\n",
              "\n",
              "\n",
              "<div id=\"df-38ed4991-b5d2-4b0f-9fa4-09df2f772962\">\n",
              "  <button class=\"colab-df-quickchart\" onclick=\"quickchart('df-38ed4991-b5d2-4b0f-9fa4-09df2f772962')\"\n",
              "            title=\"Suggest charts\"\n",
              "            style=\"display:none;\">\n",
              "\n",
              "<svg xmlns=\"http://www.w3.org/2000/svg\" height=\"24px\"viewBox=\"0 0 24 24\"\n",
              "     width=\"24px\">\n",
              "    <g>\n",
              "        <path d=\"M19 3H5c-1.1 0-2 .9-2 2v14c0 1.1.9 2 2 2h14c1.1 0 2-.9 2-2V5c0-1.1-.9-2-2-2zM9 17H7v-7h2v7zm4 0h-2V7h2v10zm4 0h-2v-4h2v4z\"/>\n",
              "    </g>\n",
              "</svg>\n",
              "  </button>\n",
              "\n",
              "<style>\n",
              "  .colab-df-quickchart {\n",
              "      --bg-color: #E8F0FE;\n",
              "      --fill-color: #1967D2;\n",
              "      --hover-bg-color: #E2EBFA;\n",
              "      --hover-fill-color: #174EA6;\n",
              "      --disabled-fill-color: #AAA;\n",
              "      --disabled-bg-color: #DDD;\n",
              "  }\n",
              "\n",
              "  [theme=dark] .colab-df-quickchart {\n",
              "      --bg-color: #3B4455;\n",
              "      --fill-color: #D2E3FC;\n",
              "      --hover-bg-color: #434B5C;\n",
              "      --hover-fill-color: #FFFFFF;\n",
              "      --disabled-bg-color: #3B4455;\n",
              "      --disabled-fill-color: #666;\n",
              "  }\n",
              "\n",
              "  .colab-df-quickchart {\n",
              "    background-color: var(--bg-color);\n",
              "    border: none;\n",
              "    border-radius: 50%;\n",
              "    cursor: pointer;\n",
              "    display: none;\n",
              "    fill: var(--fill-color);\n",
              "    height: 32px;\n",
              "    padding: 0;\n",
              "    width: 32px;\n",
              "  }\n",
              "\n",
              "  .colab-df-quickchart:hover {\n",
              "    background-color: var(--hover-bg-color);\n",
              "    box-shadow: 0 1px 2px rgba(60, 64, 67, 0.3), 0 1px 3px 1px rgba(60, 64, 67, 0.15);\n",
              "    fill: var(--button-hover-fill-color);\n",
              "  }\n",
              "\n",
              "  .colab-df-quickchart-complete:disabled,\n",
              "  .colab-df-quickchart-complete:disabled:hover {\n",
              "    background-color: var(--disabled-bg-color);\n",
              "    fill: var(--disabled-fill-color);\n",
              "    box-shadow: none;\n",
              "  }\n",
              "\n",
              "  .colab-df-spinner {\n",
              "    border: 2px solid var(--fill-color);\n",
              "    border-color: transparent;\n",
              "    border-bottom-color: var(--fill-color);\n",
              "    animation:\n",
              "      spin 1s steps(1) infinite;\n",
              "  }\n",
              "\n",
              "  @keyframes spin {\n",
              "    0% {\n",
              "      border-color: transparent;\n",
              "      border-bottom-color: var(--fill-color);\n",
              "      border-left-color: var(--fill-color);\n",
              "    }\n",
              "    20% {\n",
              "      border-color: transparent;\n",
              "      border-left-color: var(--fill-color);\n",
              "      border-top-color: var(--fill-color);\n",
              "    }\n",
              "    30% {\n",
              "      border-color: transparent;\n",
              "      border-left-color: var(--fill-color);\n",
              "      border-top-color: var(--fill-color);\n",
              "      border-right-color: var(--fill-color);\n",
              "    }\n",
              "    40% {\n",
              "      border-color: transparent;\n",
              "      border-right-color: var(--fill-color);\n",
              "      border-top-color: var(--fill-color);\n",
              "    }\n",
              "    60% {\n",
              "      border-color: transparent;\n",
              "      border-right-color: var(--fill-color);\n",
              "    }\n",
              "    80% {\n",
              "      border-color: transparent;\n",
              "      border-right-color: var(--fill-color);\n",
              "      border-bottom-color: var(--fill-color);\n",
              "    }\n",
              "    90% {\n",
              "      border-color: transparent;\n",
              "      border-bottom-color: var(--fill-color);\n",
              "    }\n",
              "  }\n",
              "</style>\n",
              "\n",
              "  <script>\n",
              "    async function quickchart(key) {\n",
              "      const quickchartButtonEl =\n",
              "        document.querySelector('#' + key + ' button');\n",
              "      quickchartButtonEl.disabled = true;  // To prevent multiple clicks.\n",
              "      quickchartButtonEl.classList.add('colab-df-spinner');\n",
              "      try {\n",
              "        const charts = await google.colab.kernel.invokeFunction(\n",
              "            'suggestCharts', [key], {});\n",
              "      } catch (error) {\n",
              "        console.error('Error during call to suggestCharts:', error);\n",
              "      }\n",
              "      quickchartButtonEl.classList.remove('colab-df-spinner');\n",
              "      quickchartButtonEl.classList.add('colab-df-quickchart-complete');\n",
              "    }\n",
              "    (() => {\n",
              "      let quickchartButtonEl =\n",
              "        document.querySelector('#df-38ed4991-b5d2-4b0f-9fa4-09df2f772962 button');\n",
              "      quickchartButtonEl.style.display =\n",
              "        google.colab.kernel.accessAllowed ? 'block' : 'none';\n",
              "    })();\n",
              "  </script>\n",
              "</div>\n",
              "\n",
              "    </div>\n",
              "  </div>\n"
            ],
            "application/vnd.google.colaboratory.intrinsic+json": {
              "type": "dataframe",
              "variable_name": "data1",
              "summary": "{\n  \"name\": \"data1\",\n  \"rows\": 27481,\n  \"fields\": [\n    {\n      \"column\": \"cleaned_text\",\n      \"properties\": {\n        \"dtype\": \"string\",\n        \"num_unique_values\": 20893,\n        \"samples\": [\n          \"my eyes are crossing\",\n          \"i will take lots of pics it is really pretty there lots of palm trees\",\n          \"error\"\n        ],\n        \"semantic_type\": \"\",\n        \"description\": \"\"\n      }\n    },\n    {\n      \"column\": \"sentiment\",\n      \"properties\": {\n        \"dtype\": \"category\",\n        \"num_unique_values\": 3,\n        \"samples\": [\n          \"neutral\",\n          \"negative\",\n          \"positive\"\n        ],\n        \"semantic_type\": \"\",\n        \"description\": \"\"\n      }\n    }\n  ]\n}"
            }
          },
          "metadata": {},
          "execution_count": 10
        }
      ],
      "source": [
        "# Example: Reorder columns manually\n",
        "data1 = data1[['cleaned_text', 'sentiment', 'selected_text']]\n",
        "data1.drop(['selected_text'], axis=1, inplace=True)\n",
        "data1.head(10)\n"
      ]
    },
    {
      "cell_type": "markdown",
      "metadata": {
        "id": "C_irdzxIfxWd"
      },
      "source": [
        "**4.ᴛᴏᴋᴇɴɪᴢᴀᴛɪᴏɴ ᴀɴᴅ ᴘᴀᴅᴅɪɴɢ**"
      ]
    },
    {
      "cell_type": "code",
      "execution_count": 11,
      "metadata": {
        "id": "0aoXSbK0SdGq"
      },
      "outputs": [],
      "source": [
        "# Tokenization and Padding\n",
        "MAX_VOCAB_SIZE = 5000\n",
        "MAX_SEQUENCE_LENGTH = 100\n",
        "\n",
        "tokenizer = Tokenizer(num_words=MAX_VOCAB_SIZE, oov_token='<OOV>')\n",
        "tokenizer.fit_on_texts(data1['cleaned_text'].values)\n",
        "\n",
        "X = tokenizer.texts_to_sequences(data1['cleaned_text'].values)\n",
        "X = pad_sequences(X, maxlen=MAX_SEQUENCE_LENGTH)\n",
        "\n",
        "# Encoding the Labels\n",
        "le = LabelEncoder()\n",
        "y = le.fit_transform(data1['sentiment'])\n",
        "y = to_categorical(y)\n",
        "\n"
      ]
    },
    {
      "cell_type": "markdown",
      "metadata": {
        "id": "DGo1tHEOgTDs"
      },
      "source": [
        "**5. ᴇɴᴄᴏᴅɪɴɢ ᴛʜᴇ ʟᴀʙᴇʟꜱ**"
      ]
    },
    {
      "cell_type": "code",
      "execution_count": 68,
      "metadata": {
        "id": "b1gzeqIZgROR",
        "colab": {
          "base_uri": "https://localhost:8080/"
        },
        "outputId": "62569596-7663-4f05-d724-a68b5eab1aa8"
      },
      "outputs": [
        {
          "output_type": "stream",
          "name": "stdout",
          "text": [
            "One-hot encoded y_train shape: (21984, 3)\n",
            "One-hot encoded y_test shape: (5497, 3)\n"
          ]
        }
      ],
      "source": [
        "from tensorflow.keras.utils import to_categorical\n",
        "\n",
        "# Number of classes\n",
        "num_classes = 3\n",
        "\n",
        "# Convert integer labels to one-hot encoding\n",
        "y_train_one_hot = to_categorical(y_train, num_classes=num_classes)\n",
        "y_test_one_hot = to_categorical(y_test, num_classes=num_classes)\n",
        "\n",
        "print(\"One-hot encoded y_train shape:\", y_train_one_hot.shape)\n",
        "print(\"One-hot encoded y_test shape:\", y_test_one_hot.shape)\n",
        "\n"
      ]
    },
    {
      "cell_type": "markdown",
      "metadata": {
        "id": "2tz_Yyhhgg1h"
      },
      "source": [
        "**6.ᴅᴀᴛᴀ ꜱᴘʟɪᴛɪɴɢ ꜰᴏʀ ᴛʀᴀɪɴɪɴɢ ᴀɴᴅ ꜱᴘʟɪᴛɪɴɢ ꜱᴇᴛꜱ**"
      ]
    },
    {
      "cell_type": "code",
      "execution_count": 69,
      "metadata": {
        "id": "5LyQ9dbcgfIz"
      },
      "outputs": [],
      "source": [
        "\n",
        "X_train, X_test, y_train, y_test = train_test_split(X, y, test_size=0.2, random_state=42)"
      ]
    },
    {
      "cell_type": "markdown",
      "metadata": {
        "id": "Y2y2JvKRYoCe"
      },
      "source": [
        "**7.ᴍᴏᴅᴇʟ ᴛʀᴀɪɴɪɴɢ ᴠᴇʀꜱɪᴏɴ 1.0**"
      ]
    },
    {
      "cell_type": "code",
      "source": [
        "print(y_train.shape)\n"
      ],
      "metadata": {
        "colab": {
          "base_uri": "https://localhost:8080/"
        },
        "id": "P7gAUQ9UOFqs",
        "outputId": "97a4a318-fc4b-4b19-dac4-0d81cec27363"
      },
      "execution_count": 70,
      "outputs": [
        {
          "output_type": "stream",
          "name": "stdout",
          "text": [
            "(21984, 3)\n"
          ]
        }
      ]
    },
    {
      "cell_type": "code",
      "execution_count": 32,
      "metadata": {
        "colab": {
          "base_uri": "https://localhost:8080/"
        },
        "id": "X7JiKpSPYTjL",
        "outputId": "5a93555d-6375-459f-b71e-0e08a76f3a37"
      },
      "outputs": [
        {
          "output_type": "stream",
          "name": "stdout",
          "text": [
            "Epoch 1/5\n",
            "344/344 - 63s - 183ms/step - accuracy: 0.7395 - loss: 0.6348 - val_accuracy: 0.8355 - val_loss: 0.4498\n",
            "Epoch 2/5\n",
            "344/344 - 82s - 239ms/step - accuracy: 0.8463 - loss: 0.4069 - val_accuracy: 0.8388 - val_loss: 0.4287\n",
            "Epoch 3/5\n",
            "344/344 - 81s - 237ms/step - accuracy: 0.8694 - loss: 0.3491 - val_accuracy: 0.8410 - val_loss: 0.4331\n",
            "Epoch 4/5\n",
            "344/344 - 63s - 183ms/step - accuracy: 0.8841 - loss: 0.3111 - val_accuracy: 0.8459 - val_loss: 0.4313\n",
            "Epoch 5/5\n",
            "344/344 - 61s - 177ms/step - accuracy: 0.8933 - loss: 0.2851 - val_accuracy: 0.8341 - val_loss: 0.4604\n"
          ]
        }
      ],
      "source": [
        "from tensorflow.keras.models import Sequential\n",
        "from tensorflow.keras.layers import Embedding, SpatialDropout1D, LSTM, Dense\n",
        "\n",
        "# Define the LSTM model\n",
        "EMBEDDING_DIM = 100\n",
        "MAX_VOCAB_SIZE = 10000  # Example value; adjust as needed\n",
        "MAX_SEQUENCE_LENGTH = 100  # Example value; adjust as needed\n",
        "\n",
        "model1 = Sequential()\n",
        "model1.add(Embedding(MAX_VOCAB_SIZE, EMBEDDING_DIM, input_length=MAX_SEQUENCE_LENGTH))\n",
        "model1.add(SpatialDropout1D(0.2))\n",
        "model1.add(LSTM(100, dropout=0.2, recurrent_dropout=0.2))\n",
        "model1.add(Dense(num_classes, activation='softmax'))  # Number of classes for one-hot encoding\n",
        "\n",
        "model1.compile(loss='categorical_crossentropy', optimizer='adam', metrics=['accuracy'])\n",
        "\n",
        "\n",
        "\n",
        "# Train the Model\n",
        "BATCH_SIZE = 64\n",
        "EPOCHS = 5\n",
        "\n",
        "history = model1.fit(X_train, y_train_one_hot, epochs=EPOCHS, batch_size=BATCH_SIZE, validation_data=(X_test, y_test_one_hot), verbose=2)\n",
        "\n"
      ]
    },
    {
      "cell_type": "markdown",
      "metadata": {
        "id": "ms7wUEBZZx2N"
      },
      "source": [
        "**ᴍᴏᴅᴇʟ ᴇᴠᴀʟᴜᴀᴛɪᴏɴ ᴠᴇʀꜱɪᴏɴ 1.0**"
      ]
    },
    {
      "cell_type": "code",
      "execution_count": 37,
      "metadata": {
        "colab": {
          "base_uri": "https://localhost:8080/"
        },
        "id": "XRr1zu-vY7nU",
        "outputId": "171c1e3a-c130-4511-acfd-fe83e0b6aab5"
      },
      "outputs": [
        {
          "output_type": "stream",
          "name": "stdout",
          "text": [
            "\u001b[1m172/172\u001b[0m \u001b[32m━━━━━━━━━━━━━━━━━━━━\u001b[0m\u001b[37m\u001b[0m \u001b[1m8s\u001b[0m 44ms/step\n",
            "Classification Report:\n",
            "              precision    recall  f1-score   support\n",
            "\n",
            "    positive       0.78      0.84      0.81      1562\n",
            "    negative       0.83      0.83      0.83      2230\n",
            "     neutral       0.89      0.83      0.86      1705\n",
            "\n",
            "    accuracy                           0.83      5497\n",
            "   macro avg       0.84      0.83      0.83      5497\n",
            "weighted avg       0.84      0.83      0.83      5497\n",
            "\n",
            "Confusion Matrix:\n",
            "[[1319  196   47]\n",
            " [ 244 1855  131]\n",
            " [ 122  172 1411]]\n"
          ]
        }
      ],
      "source": [
        "from sklearn.metrics import classification_report, confusion_matrix\n",
        "import numpy as np\n",
        "\n",
        "# Predict class probabilities for X_test\n",
        "y_pred_probs = model1.predict(X_test)\n",
        "\n",
        "# Convert probabilities to class labels\n",
        "y_pred = np.argmax(y_pred_probs, axis=1)\n",
        "y_true = np.argmax(y_test_one_hot, axis=1)  # Ensure y_test is in one-hot encoded format\n",
        "\n",
        "# Print classification report\n",
        "print(\"Classification Report:\")\n",
        "print(classification_report(y_true, y_pred, target_names=['positive', 'negative', 'neutral']))\n",
        "\n",
        "# Print confusion matrix\n",
        "print(\"Confusion Matrix:\")\n",
        "print(confusion_matrix(y_true, y_pred))\n",
        "\n"
      ]
    },
    {
      "cell_type": "markdown",
      "metadata": {
        "id": "TYXuklYzaAJ3"
      },
      "source": [
        "**ᴍᴏᴅᴇʟ ᴘᴇʀᴅɪᴄᴀᴛɪᴏɴ ᴠᴇʀꜱɪᴏɴ 1.0**"
      ]
    },
    {
      "cell_type": "code",
      "execution_count": 35,
      "metadata": {
        "colab": {
          "base_uri": "https://localhost:8080/"
        },
        "id": "AN53aRNtZHuY",
        "outputId": "6338497b-9bf7-4332-dd3b-9e32956f4ff6"
      },
      "outputs": [
        {
          "output_type": "stream",
          "name": "stdout",
          "text": [
            "\u001b[1m1/1\u001b[0m \u001b[32m━━━━━━━━━━━━━━━━━━━━\u001b[0m\u001b[37m\u001b[0m \u001b[1m0s\u001b[0m 69ms/step\n",
            "Prediction: [[0.93545836 0.02923337 0.03530821]]\n",
            "Predicted label: ['negative']\n"
          ]
        }
      ],
      "source": [
        "#Predicting sample test\n",
        "sample_text = [\"dont force\"]\n",
        "sample_text = tokenizer.texts_to_sequences(sample_text)\n",
        "sample_text = pad_sequences(sample_text, maxlen=MAX_SEQUENCE_LENGTH)\n",
        "\n",
        "prediction = model1.predict(sample_text)\n",
        "print(\"Prediction:\", prediction)\n",
        "print(\"Predicted label:\", le.inverse_transform(np.argmax(prediction, axis=1)))"
      ]
    },
    {
      "cell_type": "markdown",
      "metadata": {
        "id": "FdLwakGc4oji"
      },
      "source": [
        "**ᴍᴏᴅᴇʟ ᴛʀᴀɪɴɪɴɢ ᴠᴇʀꜱɪᴏɴ 2.0**"
      ]
    },
    {
      "cell_type": "code",
      "execution_count": 40,
      "metadata": {
        "colab": {
          "base_uri": "https://localhost:8080/"
        },
        "id": "LOKUNLmeTWlK",
        "outputId": "19d1cb3f-7dfb-4828-f6bf-104bb486b2cd"
      },
      "outputs": [
        {
          "output_type": "stream",
          "name": "stdout",
          "text": [
            "Epoch 1/6\n"
          ]
        },
        {
          "output_type": "stream",
          "name": "stderr",
          "text": [
            "/usr/local/lib/python3.10/dist-packages/keras/src/layers/core/embedding.py:90: UserWarning: Argument `input_length` is deprecated. Just remove it.\n",
            "  warnings.warn(\n"
          ]
        },
        {
          "output_type": "stream",
          "name": "stdout",
          "text": [
            "344/344 - 69s - 199ms/step - accuracy: 0.7354 - loss: 0.6387 - val_accuracy: 0.8366 - val_loss: 0.4488\n",
            "Epoch 2/6\n",
            "344/344 - 90s - 263ms/step - accuracy: 0.8473 - loss: 0.4049 - val_accuracy: 0.8456 - val_loss: 0.4258\n",
            "Epoch 3/6\n",
            "344/344 - 61s - 177ms/step - accuracy: 0.8706 - loss: 0.3448 - val_accuracy: 0.8450 - val_loss: 0.4281\n",
            "Epoch 4/6\n",
            "344/344 - 81s - 235ms/step - accuracy: 0.8857 - loss: 0.3126 - val_accuracy: 0.8392 - val_loss: 0.4386\n",
            "Epoch 5/6\n",
            "344/344 - 83s - 242ms/step - accuracy: 0.8934 - loss: 0.2882 - val_accuracy: 0.8405 - val_loss: 0.4481\n",
            "Epoch 6/6\n",
            "344/344 - 81s - 236ms/step - accuracy: 0.9000 - loss: 0.2692 - val_accuracy: 0.8368 - val_loss: 0.4653\n"
          ]
        }
      ],
      "source": [
        "from tensorflow.keras.models import Sequential\n",
        "from tensorflow.keras.layers import Embedding, SpatialDropout1D, LSTM, Dense\n",
        "\n",
        "# Define the LSTM model\n",
        "EMBEDDING_DIM = 100\n",
        "MAX_VOCAB_SIZE = 10000  # Example value; adjust as needed\n",
        "MAX_SEQUENCE_LENGTH = 100  # Example value; adjust as needed\n",
        "\n",
        "model2 = Sequential()\n",
        "model2.add(Embedding(MAX_VOCAB_SIZE, EMBEDDING_DIM, input_length=MAX_SEQUENCE_LENGTH))\n",
        "model2.add(SpatialDropout1D(0.2))\n",
        "model2.add(LSTM(100, dropout=0.2, recurrent_dropout=0.2))\n",
        "model2.add(Dense(num_classes, activation='softmax'))  # Number of classes for one-hot encoding\n",
        "\n",
        "model2.compile(loss='categorical_crossentropy', optimizer='adam', metrics=['accuracy'])\n",
        "\n",
        "\n",
        "\n",
        "# Train the Model\n",
        "BATCH_SIZE = 64\n",
        "EPOCHS = 6\n",
        "\n",
        "history = model2.fit(X_train, y_train_one_hot, epochs=EPOCHS, batch_size=BATCH_SIZE, validation_data=(X_test, y_test_one_hot), verbose=2)\n",
        "\n"
      ]
    },
    {
      "cell_type": "markdown",
      "metadata": {
        "id": "2z5b1uoeheDq"
      },
      "source": [
        "**ᴍᴏᴅᴇʟ ᴇᴠᴀʟᴜᴀᴛɪᴏɴ ᴠᴇʀꜱɪᴏɴ 2.0**"
      ]
    },
    {
      "cell_type": "code",
      "execution_count": 41,
      "metadata": {
        "colab": {
          "base_uri": "https://localhost:8080/"
        },
        "id": "kQzor6KehdX9",
        "outputId": "df5e49e5-e7ad-436f-969e-16ed555f00e7"
      },
      "outputs": [
        {
          "output_type": "stream",
          "name": "stdout",
          "text": [
            "\u001b[1m172/172\u001b[0m \u001b[32m━━━━━━━━━━━━━━━━━━━━\u001b[0m\u001b[37m\u001b[0m \u001b[1m8s\u001b[0m 46ms/step\n",
            "Classification Report:\n",
            "              precision    recall  f1-score   support\n",
            "\n",
            "    positive       0.80      0.83      0.82      1562\n",
            "    negative       0.82      0.86      0.84      2230\n",
            "     neutral       0.91      0.81      0.86      1705\n",
            "\n",
            "    accuracy                           0.84      5497\n",
            "   macro avg       0.84      0.83      0.84      5497\n",
            "weighted avg       0.84      0.84      0.84      5497\n",
            "\n",
            "Confusion Matrix:\n",
            "[[1304  221   37]\n",
            " [ 217 1908  105]\n",
            " [ 116  201 1388]]\n"
          ]
        }
      ],
      "source": [
        "from sklearn.metrics import classification_report, confusion_matrix\n",
        "import numpy as np\n",
        "\n",
        "# Predict class probabilities for X_test\n",
        "y_pred_probs = model2.predict(X_test)\n",
        "\n",
        "# Convert probabilities to class labels\n",
        "y_pred = np.argmax(y_pred_probs, axis=1)\n",
        "y_true = np.argmax(y_test_one_hot, axis=1)  # Ensure y_test is in one-hot encoded format\n",
        "\n",
        "# Print classification report\n",
        "print(\"Classification Report:\")\n",
        "print(classification_report(y_true, y_pred, target_names=['positive', 'negative', 'neutral']))\n",
        "\n",
        "# Print confusion matrix\n",
        "print(\"Confusion Matrix:\")\n",
        "print(confusion_matrix(y_true, y_pred))\n",
        "\n"
      ]
    },
    {
      "cell_type": "markdown",
      "metadata": {
        "id": "y6zSRzuzrJ6Q"
      },
      "source": [
        "**ᴍᴏᴅᴇʟ ᴘᴇʀᴅɪᴄᴀᴛɪᴏɴ ᴠᴇʀꜱɪᴏɴ 2.0**"
      ]
    },
    {
      "cell_type": "code",
      "execution_count": 42,
      "metadata": {
        "colab": {
          "base_uri": "https://localhost:8080/"
        },
        "id": "VtGJGNjwrGpl",
        "outputId": "76af17d0-b50d-4b42-b8fa-5814f84ed33f"
      },
      "outputs": [
        {
          "output_type": "stream",
          "name": "stdout",
          "text": [
            "\u001b[1m1/1\u001b[0m \u001b[32m━━━━━━━━━━━━━━━━━━━━\u001b[0m\u001b[37m\u001b[0m \u001b[1m0s\u001b[0m 51ms/step\n",
            "Prediction: [[0.00448107 0.12759176 0.86792713]]\n",
            "Predicted label: ['positive']\n"
          ]
        }
      ],
      "source": [
        "\n",
        "sample_text = [\"I love this product!\"]\n",
        "sample_text = tokenizer.texts_to_sequences(sample_text)\n",
        "sample_text = pad_sequences(sample_text, maxlen=MAX_SEQUENCE_LENGTH)\n",
        "\n",
        "prediction = model2.predict(sample_text)\n",
        "print(\"Prediction:\", prediction)\n",
        "print(\"Predicted label:\", le.inverse_transform(np.argmax(prediction, axis=1)))"
      ]
    },
    {
      "cell_type": "markdown",
      "metadata": {
        "id": "fJi_hKffbC-q"
      },
      "source": [
        "**ᴍᴏᴅᴇʟ ᴛʀᴀɪɴɪɴɢ ᴠᴇʀꜱꜱɪᴏɴ 3.0**"
      ]
    },
    {
      "cell_type": "code",
      "execution_count": 71,
      "metadata": {
        "colab": {
          "base_uri": "https://localhost:8080/"
        },
        "id": "4FiTxIqekCth",
        "outputId": "04314a22-db67-49d1-e51a-f52742340f85"
      },
      "outputs": [
        {
          "output_type": "stream",
          "name": "stdout",
          "text": [
            "Epoch 1/7\n"
          ]
        },
        {
          "output_type": "stream",
          "name": "stderr",
          "text": [
            "/usr/local/lib/python3.10/dist-packages/keras/src/layers/core/embedding.py:90: UserWarning: Argument `input_length` is deprecated. Just remove it.\n",
            "  warnings.warn(\n"
          ]
        },
        {
          "output_type": "stream",
          "name": "stdout",
          "text": [
            "344/344 - 66s - 191ms/step - accuracy: 0.7318 - loss: 0.6389 - val_accuracy: 0.8350 - val_loss: 0.4486\n",
            "Epoch 2/7\n",
            "344/344 - 79s - 230ms/step - accuracy: 0.8483 - loss: 0.4034 - val_accuracy: 0.8395 - val_loss: 0.4367\n",
            "Epoch 3/7\n",
            "344/344 - 83s - 241ms/step - accuracy: 0.8717 - loss: 0.3457 - val_accuracy: 0.8436 - val_loss: 0.4261\n",
            "Epoch 4/7\n",
            "344/344 - 82s - 239ms/step - accuracy: 0.8836 - loss: 0.3113 - val_accuracy: 0.8479 - val_loss: 0.4349\n",
            "Epoch 5/7\n",
            "344/344 - 83s - 240ms/step - accuracy: 0.8966 - loss: 0.2841 - val_accuracy: 0.8348 - val_loss: 0.4466\n",
            "Epoch 6/7\n",
            "344/344 - 81s - 235ms/step - accuracy: 0.9023 - loss: 0.2668 - val_accuracy: 0.8343 - val_loss: 0.4609\n",
            "Epoch 7/7\n",
            "344/344 - 84s - 243ms/step - accuracy: 0.9064 - loss: 0.2524 - val_accuracy: 0.8346 - val_loss: 0.4727\n"
          ]
        }
      ],
      "source": [
        "from tensorflow.keras.models import Sequential\n",
        "from tensorflow.keras.layers import Embedding, SpatialDropout1D, LSTM, Dense\n",
        "\n",
        "# Define the LSTM model\n",
        "EMBEDDING_DIM = 100\n",
        "MAX_VOCAB_SIZE = 10000\n",
        "MAX_SEQUENCE_LENGTH = 100\n",
        "\n",
        "model3 = Sequential()\n",
        "model3.add(Embedding(MAX_VOCAB_SIZE, EMBEDDING_DIM, input_length=MAX_SEQUENCE_LENGTH))\n",
        "model3.add(SpatialDropout1D(0.2))\n",
        "model3.add(LSTM(100, dropout=0.2, recurrent_dropout=0.2))\n",
        "model3.add(Dense(num_classes, activation='softmax'))  # Number of classes for one-hot encoding\n",
        "\n",
        "model3.compile(loss='categorical_crossentropy', optimizer='adam', metrics=['accuracy'])\n",
        "\n",
        "# Train the Model\n",
        "BATCH_SIZE = 64\n",
        "EPOCHS = 7\n",
        "\n",
        "history = model3.fit(X_train, y_train_one_hot, epochs=EPOCHS, batch_size=BATCH_SIZE, validation_data=(X_test, y_test_one_hot), verbose=2)\n"
      ]
    },
    {
      "cell_type": "markdown",
      "metadata": {
        "id": "otG1XKVMbODM"
      },
      "source": [
        "**ᴍᴏᴅᴇʟ ᴇᴠᴀʟᴜᴇᴀᴛɪᴏɴ ᴠᴇʀꜱɪᴏɴ 3.0**"
      ]
    },
    {
      "cell_type": "code",
      "execution_count": 45,
      "metadata": {
        "colab": {
          "base_uri": "https://localhost:8080/"
        },
        "id": "_MBxbpH8bQPY",
        "outputId": "892ecbb8-ee6d-4204-e5c3-f1124403ce4e"
      },
      "outputs": [
        {
          "output_type": "stream",
          "name": "stdout",
          "text": [
            "\u001b[1m172/172\u001b[0m \u001b[32m━━━━━━━━━━━━━━━━━━━━\u001b[0m\u001b[37m\u001b[0m \u001b[1m7s\u001b[0m 43ms/step\n",
            "Classification Report:\n",
            "              precision    recall  f1-score   support\n",
            "\n",
            "    positive       0.81      0.82      0.82      1562\n",
            "    negative       0.83      0.85      0.84      2230\n",
            "     neutral       0.88      0.84      0.86      1705\n",
            "\n",
            "    accuracy                           0.84      5497\n",
            "   macro avg       0.84      0.84      0.84      5497\n",
            "weighted avg       0.84      0.84      0.84      5497\n",
            "\n",
            "Confusion Matrix:\n",
            "[[1278  233   51]\n",
            " [ 189 1888  153]\n",
            " [ 106  165 1434]]\n"
          ]
        }
      ],
      "source": [
        "from sklearn.metrics import classification_report, confusion_matrix\n",
        "import numpy as np\n",
        "\n",
        "# Predict class probabilities for X_test\n",
        "y_pred_probs = model3.predict(X_test)\n",
        "\n",
        "# Convert probabilities to class labels\n",
        "y_pred = np.argmax(y_pred_probs, axis=1)\n",
        "y_true = np.argmax(y_test_one_hot, axis=1)  # Ensure y_test is in one-hot encoded format\n",
        "\n",
        "# Print classification report\n",
        "print(\"Classification Report:\")\n",
        "print(classification_report(y_true, y_pred, target_names=['positive', 'negative', 'neutral']))\n",
        "\n",
        "# Print confusion matrix\n",
        "print(\"Confusion Matrix:\")\n",
        "print(confusion_matrix(y_true, y_pred))"
      ]
    },
    {
      "cell_type": "markdown",
      "metadata": {
        "id": "5gO7lONvc0Tt"
      },
      "source": [
        "**ᴍᴏᴅᴇʟ ᴘᴇʀᴅɪᴄᴀᴛɪᴏɴ ᴠᴇʀꜱɪᴏɴ 3.0**"
      ]
    },
    {
      "cell_type": "code",
      "execution_count": 46,
      "metadata": {
        "colab": {
          "base_uri": "https://localhost:8080/"
        },
        "id": "u1WFbfDCc6Sq",
        "outputId": "dbc9d6ec-7741-4da8-f3bc-cd230791f7fb"
      },
      "outputs": [
        {
          "output_type": "stream",
          "name": "stdout",
          "text": [
            "\u001b[1m1/1\u001b[0m \u001b[32m━━━━━━━━━━━━━━━━━━━━\u001b[0m\u001b[37m\u001b[0m \u001b[1m0s\u001b[0m 54ms/step\n",
            "Prediction: [[2.7029388e-04 9.8115420e-03 9.8991817e-01]]\n",
            "Predicted label: ['positive']\n"
          ]
        }
      ],
      "source": [
        "\n",
        "sample_text = [\"I love this product!\"]\n",
        "sample_text = tokenizer.texts_to_sequences(sample_text)\n",
        "sample_text = pad_sequences(sample_text, maxlen=MAX_SEQUENCE_LENGTH)\n",
        "\n",
        "prediction = model3.predict(sample_text)\n",
        "print(\"Prediction:\", prediction)\n",
        "print(\"Predicted label:\", le.inverse_transform(np.argmax(prediction, axis=1)))"
      ]
    },
    {
      "cell_type": "markdown",
      "metadata": {
        "id": "7EnQOT3Xb8pS"
      },
      "source": [
        "**ᴍᴏᴅᴇʟ ᴛʀᴀɪɴɢ ᴠᴇʀꜱɪᴏɴ 4.0**"
      ]
    },
    {
      "cell_type": "code",
      "execution_count": 47,
      "metadata": {
        "colab": {
          "base_uri": "https://localhost:8080/"
        },
        "id": "el0EPHbNcEcC",
        "outputId": "c9ce9abd-dab6-4d11-f64f-b2c60e1d7807"
      },
      "outputs": [
        {
          "output_type": "stream",
          "name": "stdout",
          "text": [
            "Epoch 1/8\n"
          ]
        },
        {
          "output_type": "stream",
          "name": "stderr",
          "text": [
            "/usr/local/lib/python3.10/dist-packages/keras/src/layers/core/embedding.py:90: UserWarning: Argument `input_length` is deprecated. Just remove it.\n",
            "  warnings.warn(\n"
          ]
        },
        {
          "output_type": "stream",
          "name": "stdout",
          "text": [
            "344/344 - 76s - 220ms/step - accuracy: 0.7344 - loss: 0.6382 - val_accuracy: 0.8305 - val_loss: 0.4600\n",
            "Epoch 2/8\n",
            "344/344 - 66s - 192ms/step - accuracy: 0.8468 - loss: 0.4079 - val_accuracy: 0.8430 - val_loss: 0.4243\n",
            "Epoch 3/8\n",
            "344/344 - 104s - 303ms/step - accuracy: 0.8713 - loss: 0.3468 - val_accuracy: 0.8406 - val_loss: 0.4326\n",
            "Epoch 4/8\n",
            "344/344 - 142s - 414ms/step - accuracy: 0.8844 - loss: 0.3111 - val_accuracy: 0.8448 - val_loss: 0.4377\n",
            "Epoch 5/8\n",
            "344/344 - 116s - 337ms/step - accuracy: 0.8942 - loss: 0.2887 - val_accuracy: 0.8350 - val_loss: 0.4465\n",
            "Epoch 6/8\n",
            "344/344 - 62s - 180ms/step - accuracy: 0.9020 - loss: 0.2689 - val_accuracy: 0.8405 - val_loss: 0.4522\n",
            "Epoch 7/8\n",
            "344/344 - 84s - 244ms/step - accuracy: 0.9071 - loss: 0.2518 - val_accuracy: 0.8423 - val_loss: 0.4698\n",
            "Epoch 8/8\n",
            "344/344 - 79s - 231ms/step - accuracy: 0.9139 - loss: 0.2366 - val_accuracy: 0.8375 - val_loss: 0.4928\n"
          ]
        }
      ],
      "source": [
        "from tensorflow.keras.models import Sequential\n",
        "from tensorflow.keras.layers import Embedding, SpatialDropout1D, LSTM, Dense\n",
        "\n",
        "# Define the LSTM model\n",
        "EMBEDDING_DIM = 100\n",
        "MAX_VOCAB_SIZE = 10000\n",
        "MAX_SEQUENCE_LENGTH = 100\n",
        "\n",
        "model4 = Sequential()\n",
        "model4.add(Embedding(MAX_VOCAB_SIZE, EMBEDDING_DIM, input_length=MAX_SEQUENCE_LENGTH))\n",
        "model4.add(SpatialDropout1D(0.2))\n",
        "model4.add(LSTM(100, dropout=0.2, recurrent_dropout=0.2))\n",
        "model4.add(Dense(num_classes, activation='softmax'))  # Number of classes for one-hot encoding\n",
        "\n",
        "model4.compile(loss='categorical_crossentropy', optimizer='adam', metrics=['accuracy'])\n",
        "\n",
        "# Train the Model\n",
        "BATCH_SIZE = 64\n",
        "EPOCHS = 8\n",
        "\n",
        "history = model4.fit(X_train, y_train_one_hot, epochs=EPOCHS, batch_size=BATCH_SIZE, validation_data=(X_test, y_test_one_hot), verbose=2)"
      ]
    },
    {
      "cell_type": "markdown",
      "metadata": {
        "id": "oCKQgStrchw2"
      },
      "source": [
        "**ᴍᴏᴅᴇʟ ᴇᴠᴀʟᴜᴀᴛɪᴏɴ ᴠᴇʀꜱɪᴏɴ 4.0**"
      ]
    },
    {
      "cell_type": "code",
      "execution_count": 48,
      "metadata": {
        "colab": {
          "base_uri": "https://localhost:8080/"
        },
        "id": "uqEQPasecvFE",
        "outputId": "5899c130-8f21-4847-a42c-ecad224a2f7b"
      },
      "outputs": [
        {
          "output_type": "stream",
          "name": "stdout",
          "text": [
            "\u001b[1m172/172\u001b[0m \u001b[32m━━━━━━━━━━━━━━━━━━━━\u001b[0m\u001b[37m\u001b[0m \u001b[1m7s\u001b[0m 39ms/step\n",
            "Classification Report:\n",
            "              precision    recall  f1-score   support\n",
            "\n",
            "    positive       0.84      0.79      0.82      1562\n",
            "    negative       0.82      0.86      0.84      2230\n",
            "     neutral       0.86      0.85      0.85      1705\n",
            "\n",
            "    accuracy                           0.84      5497\n",
            "   macro avg       0.84      0.83      0.84      5497\n",
            "weighted avg       0.84      0.84      0.84      5497\n",
            "\n",
            "Confusion Matrix:\n",
            "[[1240  268   54]\n",
            " [ 131 1915  184]\n",
            " [ 100  156 1449]]\n"
          ]
        }
      ],
      "source": [
        "from sklearn.metrics import classification_report, confusion_matrix\n",
        "import numpy as np\n",
        "\n",
        "# Predict class probabilities for X_test\n",
        "y_pred_probs = model4.predict(X_test)\n",
        "\n",
        "# Convert probabilities to class labels\n",
        "y_pred = np.argmax(y_pred_probs, axis=1)\n",
        "y_true = np.argmax(y_test_one_hot, axis=1)  # Ensure y_test is in one-hot encoded format\n",
        "\n",
        "# Print classification report\n",
        "print(\"Classification Report:\")\n",
        "print(classification_report(y_true, y_pred, target_names=['positive', 'negative', 'neutral']))\n",
        "\n",
        "# Print confusion matrix\n",
        "print(\"Confusion Matrix:\")\n",
        "print(confusion_matrix(y_true, y_pred))"
      ]
    },
    {
      "cell_type": "markdown",
      "metadata": {
        "id": "hjVk_BX_bjCh"
      },
      "source": [
        "**ᴍᴏᴅᴇʟ ᴘᴇʀᴅɪᴄᴀᴛɪᴏɴ ᴠᴇʀꜱɪᴏɴ 4.0**"
      ]
    },
    {
      "cell_type": "code",
      "execution_count": 49,
      "metadata": {
        "colab": {
          "base_uri": "https://localhost:8080/"
        },
        "id": "HUy1u3Imbi0i",
        "outputId": "b34158ad-6950-4a0d-f5f3-3e6eced4b90f"
      },
      "outputs": [
        {
          "output_type": "stream",
          "name": "stdout",
          "text": [
            "\u001b[1m1/1\u001b[0m \u001b[32m━━━━━━━━━━━━━━━━━━━━\u001b[0m\u001b[37m\u001b[0m \u001b[1m0s\u001b[0m 50ms/step\n",
            "Prediction: [[8.6013530e-04 1.8566947e-02 9.8057288e-01]]\n",
            "Predicted label: ['positive']\n"
          ]
        }
      ],
      "source": [
        "\n",
        "sample_text = [\"I love this product!\"]\n",
        "sample_text = tokenizer.texts_to_sequences(sample_text)\n",
        "sample_text = pad_sequences(sample_text, maxlen=MAX_SEQUENCE_LENGTH)\n",
        "\n",
        "prediction = model4.predict(sample_text)\n",
        "print(\"Prediction:\", prediction)\n",
        "print(\"Predicted label:\", le.inverse_transform(np.argmax(prediction, axis=1)))"
      ]
    },
    {
      "cell_type": "markdown",
      "metadata": {
        "id": "eN4VELPJd3Yt"
      },
      "source": [
        "**ᴍᴏᴅᴇʟ ᴛʀᴀɪɴɪɴɢ ᴠᴇʀꜱɪᴏɴ 5.0**"
      ]
    },
    {
      "cell_type": "code",
      "execution_count": 50,
      "metadata": {
        "colab": {
          "base_uri": "https://localhost:8080/"
        },
        "id": "tAfQ-4c2ebBN",
        "outputId": "29253d40-b980-44c7-dc58-34a72ec1668e"
      },
      "outputs": [
        {
          "metadata": {
            "tags": null
          },
          "name": "stdout",
          "output_type": "stream",
          "text": [
            "Epoch 1/9\n"
          ]
        },
        {
          "metadata": {
            "tags": null
          },
          "name": "stderr",
          "output_type": "stream",
          "text": [
            "/usr/local/lib/python3.10/dist-packages/keras/src/layers/core/embedding.py:90: UserWarning: Argument `input_length` is deprecated. Just remove it.\n",
            "  warnings.warn(\n"
          ]
        },
        {
          "output_type": "stream",
          "name": "stdout",
          "text": [
            "344/344 - 63s - 182ms/step - accuracy: 0.7378 - loss: 0.6339 - val_accuracy: 0.8303 - val_loss: 0.4540\n",
            "Epoch 2/9\n",
            "344/344 - 82s - 239ms/step - accuracy: 0.8458 - loss: 0.4064 - val_accuracy: 0.8459 - val_loss: 0.4225\n",
            "Epoch 3/9\n",
            "344/344 - 84s - 244ms/step - accuracy: 0.8690 - loss: 0.3486 - val_accuracy: 0.8405 - val_loss: 0.4266\n",
            "Epoch 4/9\n",
            "344/344 - 79s - 231ms/step - accuracy: 0.8857 - loss: 0.3110 - val_accuracy: 0.8410 - val_loss: 0.4428\n",
            "Epoch 5/9\n",
            "344/344 - 82s - 240ms/step - accuracy: 0.8951 - loss: 0.2856 - val_accuracy: 0.8314 - val_loss: 0.4532\n",
            "Epoch 6/9\n",
            "344/344 - 85s - 247ms/step - accuracy: 0.9017 - loss: 0.2685 - val_accuracy: 0.8335 - val_loss: 0.4772\n",
            "Epoch 7/9\n",
            "344/344 - 60s - 176ms/step - accuracy: 0.9093 - loss: 0.2492 - val_accuracy: 0.8325 - val_loss: 0.4787\n",
            "Epoch 8/9\n",
            "344/344 - 82s - 238ms/step - accuracy: 0.9133 - loss: 0.2326 - val_accuracy: 0.8432 - val_loss: 0.4903\n",
            "Epoch 9/9\n",
            "344/344 - 84s - 245ms/step - accuracy: 0.9191 - loss: 0.2191 - val_accuracy: 0.8363 - val_loss: 0.4949\n"
          ]
        }
      ],
      "source": [
        "from tensorflow.keras.models import Sequential\n",
        "from tensorflow.keras.layers import Embedding, SpatialDropout1D, LSTM, Dense\n",
        "\n",
        "# Define the LSTM model\n",
        "EMBEDDING_DIM = 100\n",
        "MAX_VOCAB_SIZE = 10000\n",
        "MAX_SEQUENCE_LENGTH = 100\n",
        "\n",
        "model5 = Sequential()\n",
        "model5.add(Embedding(MAX_VOCAB_SIZE, EMBEDDING_DIM, input_length=MAX_SEQUENCE_LENGTH))\n",
        "model5.add(SpatialDropout1D(0.2))\n",
        "model5.add(LSTM(100, dropout=0.2, recurrent_dropout=0.2))\n",
        "model5.add(Dense(num_classes, activation='softmax'))  # Number of classes for one-hot encoding\n",
        "\n",
        "model5.compile(loss='categorical_crossentropy', optimizer='adam', metrics=['accuracy'])\n",
        "\n",
        "# Train the Model\n",
        "BATCH_SIZE = 64\n",
        "EPOCHS = 9\n",
        "\n",
        "history = model5.fit(X_train, y_train_one_hot, epochs=EPOCHS, batch_size=BATCH_SIZE, validation_data=(X_test, y_test_one_hot), verbose=2)"
      ]
    },
    {
      "cell_type": "markdown",
      "metadata": {
        "id": "WJ1mQJvIel1l"
      },
      "source": [
        "**ᴍᴏᴅᴇʟ ᴇᴠᴀʟᴜᴀᴛɪᴏɴ ᴠᴇʀꜱɪᴏɴ 5.0**\n",
        "\n"
      ]
    },
    {
      "cell_type": "code",
      "execution_count": 51,
      "metadata": {
        "colab": {
          "base_uri": "https://localhost:8080/"
        },
        "id": "H1WChtRyehRB",
        "outputId": "85a1ecc6-abfc-4254-e9e3-9abaa1bcdfc3"
      },
      "outputs": [
        {
          "output_type": "stream",
          "name": "stdout",
          "text": [
            "\u001b[1m172/172\u001b[0m \u001b[32m━━━━━━━━━━━━━━━━━━━━\u001b[0m\u001b[37m\u001b[0m \u001b[1m9s\u001b[0m 50ms/step\n",
            "Classification Report:\n",
            "              precision    recall  f1-score   support\n",
            "\n",
            "    positive       0.81      0.82      0.81      1562\n",
            "    negative       0.82      0.85      0.84      2230\n",
            "     neutral       0.88      0.83      0.86      1705\n",
            "\n",
            "    accuracy                           0.84      5497\n",
            "   macro avg       0.84      0.83      0.84      5497\n",
            "weighted avg       0.84      0.84      0.84      5497\n",
            "\n",
            "Confusion Matrix:\n",
            "[[1278  238   46]\n",
            " [ 193 1898  139]\n",
            " [ 106  178 1421]]\n"
          ]
        }
      ],
      "source": [
        "from sklearn.metrics import classification_report, confusion_matrix\n",
        "import numpy as np\n",
        "\n",
        "# Predict class probabilities for X_test\n",
        "y_pred_probs = model5.predict(X_test)\n",
        "\n",
        "# Convert probabilities to class labels\n",
        "y_pred = np.argmax(y_pred_probs, axis=1)\n",
        "y_true = np.argmax(y_test_one_hot, axis=1)  # Ensure y_test is in one-hot encoded format\n",
        "\n",
        "# Print classification report\n",
        "print(\"Classification Report:\")\n",
        "print(classification_report(y_true, y_pred, target_names=['positive', 'negative', 'neutral']))\n",
        "\n",
        "# Print confusion matrix\n",
        "print(\"Confusion Matrix:\")\n",
        "print(confusion_matrix(y_true, y_pred))"
      ]
    },
    {
      "cell_type": "markdown",
      "metadata": {
        "id": "nxDBdSlge1y7"
      },
      "source": [
        "**ᴍᴏᴅᴇʟ ᴘʀᴇᴅɪᴄᴀᴛɪᴏɴ ᴠᴇʀꜱɪᴏɴ 5.0**"
      ]
    },
    {
      "cell_type": "code",
      "execution_count": 54,
      "metadata": {
        "colab": {
          "base_uri": "https://localhost:8080/"
        },
        "id": "AukrFZjVelEs",
        "outputId": "5a4e290f-db02-4fe2-cd18-d05c5dec5613"
      },
      "outputs": [
        {
          "output_type": "stream",
          "name": "stdout",
          "text": [
            "\u001b[1m1/1\u001b[0m \u001b[32m━━━━━━━━━━━━━━━━━━━━\u001b[0m\u001b[37m\u001b[0m \u001b[1m0s\u001b[0m 103ms/step\n",
            "Prediction: [[0.03135274 0.956878   0.01176931]]\n",
            "Predicted label: ['neutral']\n"
          ]
        }
      ],
      "source": [
        "\n",
        "sample_text = [\"My Boyfriend encourages me\"]\n",
        "sample_text = tokenizer.texts_to_sequences(sample_text)\n",
        "sample_text = pad_sequences(sample_text, maxlen=MAX_SEQUENCE_LENGTH)\n",
        "\n",
        "prediction = model5.predict(sample_text)\n",
        "print(\"Prediction:\", prediction)\n",
        "print(\"Predicted label:\", le.inverse_transform(np.argmax(prediction, axis=1)))"
      ]
    },
    {
      "cell_type": "markdown",
      "metadata": {
        "id": "EtWm9y8LFnJl"
      },
      "source": [
        "**ᴍᴏᴅᴇʟ ᴛʀᴀɪɴɪɴɢ ᴠᴇʀꜱɪᴏɴ 6.0**"
      ]
    },
    {
      "cell_type": "code",
      "execution_count": 53,
      "metadata": {
        "colab": {
          "base_uri": "https://localhost:8080/"
        },
        "id": "kRn4ByhsFwJV",
        "outputId": "339667c9-658f-459f-f8eb-c38d50302456"
      },
      "outputs": [
        {
          "output_type": "stream",
          "name": "stdout",
          "text": [
            "Epoch 1/10\n"
          ]
        },
        {
          "output_type": "stream",
          "name": "stderr",
          "text": [
            "/usr/local/lib/python3.10/dist-packages/keras/src/layers/core/embedding.py:90: UserWarning: Argument `input_length` is deprecated. Just remove it.\n",
            "  warnings.warn(\n"
          ]
        },
        {
          "output_type": "stream",
          "name": "stdout",
          "text": [
            "344/344 - 83s - 240ms/step - accuracy: 0.7364 - loss: 0.6367 - val_accuracy: 0.8306 - val_loss: 0.4570\n",
            "Epoch 2/10\n",
            "344/344 - 61s - 178ms/step - accuracy: 0.8478 - loss: 0.4060 - val_accuracy: 0.8465 - val_loss: 0.4239\n",
            "Epoch 3/10\n",
            "344/344 - 82s - 238ms/step - accuracy: 0.8698 - loss: 0.3469 - val_accuracy: 0.8417 - val_loss: 0.4229\n",
            "Epoch 4/10\n",
            "344/344 - 82s - 238ms/step - accuracy: 0.8842 - loss: 0.3120 - val_accuracy: 0.8425 - val_loss: 0.4308\n",
            "Epoch 5/10\n",
            "344/344 - 84s - 245ms/step - accuracy: 0.8938 - loss: 0.2865 - val_accuracy: 0.8365 - val_loss: 0.4556\n",
            "Epoch 6/10\n",
            "344/344 - 61s - 178ms/step - accuracy: 0.9019 - loss: 0.2668 - val_accuracy: 0.8448 - val_loss: 0.4705\n",
            "Epoch 7/10\n",
            "344/344 - 81s - 237ms/step - accuracy: 0.9083 - loss: 0.2508 - val_accuracy: 0.8332 - val_loss: 0.4755\n",
            "Epoch 8/10\n",
            "344/344 - 84s - 243ms/step - accuracy: 0.9120 - loss: 0.2354 - val_accuracy: 0.8355 - val_loss: 0.4937\n",
            "Epoch 9/10\n",
            "344/344 - 80s - 232ms/step - accuracy: 0.9164 - loss: 0.2205 - val_accuracy: 0.8357 - val_loss: 0.5087\n",
            "Epoch 10/10\n",
            "344/344 - 62s - 180ms/step - accuracy: 0.9229 - loss: 0.2072 - val_accuracy: 0.8335 - val_loss: 0.5322\n"
          ]
        }
      ],
      "source": [
        "from tensorflow.keras.models import Sequential\n",
        "from tensorflow.keras.layers import Embedding, SpatialDropout1D, LSTM, Dense\n",
        "\n",
        "# Define the LSTM model\n",
        "EMBEDDING_DIM = 100\n",
        "MAX_VOCAB_SIZE = 10000\n",
        "MAX_SEQUENCE_LENGTH = 100\n",
        "\n",
        "model6 = Sequential()\n",
        "model6.add(Embedding(MAX_VOCAB_SIZE, EMBEDDING_DIM, input_length=MAX_SEQUENCE_LENGTH))\n",
        "model6.add(SpatialDropout1D(0.2))\n",
        "model6.add(LSTM(100, dropout=0.2, recurrent_dropout=0.2))\n",
        "model6.add(Dense(num_classes, activation='softmax'))  # Number of classes for one-hot encoding\n",
        "\n",
        "model6.compile(loss='categorical_crossentropy', optimizer='adam', metrics=['accuracy'])\n",
        "\n",
        "# Train the Model\n",
        "BATCH_SIZE = 64\n",
        "EPOCHS = 10\n",
        "\n",
        "history = model6.fit(X_train, y_train_one_hot, epochs=EPOCHS, batch_size=BATCH_SIZE, validation_data=(X_test, y_test_one_hot), verbose=2)"
      ]
    },
    {
      "cell_type": "markdown",
      "metadata": {
        "id": "Z52I9l3kF8aI"
      },
      "source": [
        "**ᴍᴏᴅᴇʟ ᴇᴠᴀʟᴜᴀᴛɪᴏɴ  ᴠᴇʀꜱɪᴏɴ 6.0**"
      ]
    },
    {
      "cell_type": "code",
      "execution_count": 55,
      "metadata": {
        "colab": {
          "base_uri": "https://localhost:8080/"
        },
        "id": "dcoKsRFTF8Bj",
        "outputId": "9072a5b0-2d07-4c28-91bb-35e4e1a94a3c"
      },
      "outputs": [
        {
          "output_type": "stream",
          "name": "stdout",
          "text": [
            "\u001b[1m172/172\u001b[0m \u001b[32m━━━━━━━━━━━━━━━━━━━━\u001b[0m\u001b[37m\u001b[0m \u001b[1m12s\u001b[0m 69ms/step\n",
            "Classification Report:\n",
            "              precision    recall  f1-score   support\n",
            "\n",
            "    positive       0.80      0.83      0.81      1562\n",
            "    negative       0.83      0.83      0.83      2230\n",
            "     neutral       0.87      0.84      0.86      1705\n",
            "\n",
            "    accuracy                           0.83      5497\n",
            "   macro avg       0.83      0.83      0.83      5497\n",
            "weighted avg       0.83      0.83      0.83      5497\n",
            "\n",
            "Confusion Matrix:\n",
            "[[1294  218   50]\n",
            " [ 221 1853  156]\n",
            " [ 112  158 1435]]\n"
          ]
        }
      ],
      "source": [
        "from sklearn.metrics import classification_report, confusion_matrix\n",
        "import numpy as np\n",
        "\n",
        "# Predict class probabilities for X_test\n",
        "y_pred_probs = model6.predict(X_test)\n",
        "\n",
        "# Convert probabilities to class labels\n",
        "y_pred = np.argmax(y_pred_probs, axis=1)\n",
        "y_true = np.argmax(y_test_one_hot, axis=1)  # Ensure y_test is in one-hot encoded format\n",
        "\n",
        "# Print classification report\n",
        "print(\"Classification Report:\")\n",
        "print(classification_report(y_true, y_pred, target_names=['positive', 'negative', 'neutral']))\n",
        "\n",
        "# Print confusion matrix\n",
        "print(\"Confusion Matrix:\")\n",
        "print(confusion_matrix(y_true, y_pred))"
      ]
    },
    {
      "cell_type": "markdown",
      "metadata": {
        "id": "_zrO1vddGWnv"
      },
      "source": [
        "**ᴍᴏᴅᴇʟ ᴘʀᴇᴅɪᴄᴀᴛɪᴏɴ ᴠᴇʀꜱɪᴏɴ 6.0**"
      ]
    },
    {
      "cell_type": "code",
      "execution_count": null,
      "metadata": {
        "colab": {
          "base_uri": "https://localhost:8080/"
        },
        "id": "QJh7LOI-GWCk",
        "outputId": "d7e5b875-94ce-4aeb-acff-f58ec17bb7e5"
      },
      "outputs": [
        {
          "name": "stdout",
          "output_type": "stream",
          "text": [
            "\u001b[1m1/1\u001b[0m \u001b[32m━━━━━━━━━━━━━━━━━━━━\u001b[0m\u001b[37m\u001b[0m \u001b[1m0s\u001b[0m 32ms/step\n",
            "Prediction: [[0.00218491 0.11231855 0.88549656]]\n",
            "Predicted label: ['positive']\n"
          ]
        }
      ],
      "source": [
        "\n",
        "sample_text = [\"I love this product!\"]\n",
        "sample_text = tokenizer.texts_to_sequences(sample_text)\n",
        "sample_text = pad_sequences(sample_text, maxlen=MAX_SEQUENCE_LENGTH)\n",
        "\n",
        "prediction = model6.predict(sample_text)\n",
        "print(\"Prediction:\", prediction)\n",
        "print(\"Predicted label:\", le.inverse_transform(np.argmax(prediction, axis=1)))"
      ]
    },
    {
      "cell_type": "markdown",
      "metadata": {
        "id": "LgvAzsK1WbYt"
      },
      "source": [
        "**8. ꜱᴀᴠɪɴɢ ᴍᴏᴅᴇʟ 4**"
      ]
    },
    {
      "cell_type": "code",
      "execution_count": 56,
      "metadata": {
        "colab": {
          "base_uri": "https://localhost:8080/"
        },
        "id": "YKnaSAa4rhsq",
        "outputId": "45e9ab2c-7d64-4c07-8e7f-18cba54afde7"
      },
      "outputs": [
        {
          "output_type": "stream",
          "name": "stderr",
          "text": [
            "WARNING:absl:You are saving your model as an HDF5 file via `model.save()` or `keras.saving.save_model(model)`. This file format is considered legacy. We recommend using instead the native Keras format, e.g. `model.save('my_model.keras')` or `keras.saving.save_model(model, 'my_model.keras')`. \n"
          ]
        }
      ],
      "source": [
        "# Save the trained model3\n",
        "model3.save('sentiment_analysis_model3.h5')\n"
      ]
    },
    {
      "cell_type": "code",
      "execution_count": 74,
      "metadata": {
        "id": "o3_hpNGcsbjc",
        "colab": {
          "base_uri": "https://localhost:8080/"
        },
        "outputId": "2dd14e30-1841-44f3-d69d-1037e5cb7936"
      },
      "outputs": [
        {
          "output_type": "stream",
          "name": "stderr",
          "text": [
            "WARNING:absl:You are saving your model as an HDF5 file via `model.save()` or `keras.saving.save_model(model)`. This file format is considered legacy. We recommend using instead the native Keras format, e.g. `model.save('my_model.keras')` or `keras.saving.save_model(model, 'my_model.keras')`. \n"
          ]
        }
      ],
      "source": [
        "from tensorflow.keras.models import load_model\n",
        "\n",
        "# Assuming 'model' is your trained model\n",
        "model3.save('sentiment_analysis_model.h5')\n",
        "\n"
      ]
    },
    {
      "cell_type": "code",
      "source": [
        "import pickle\n",
        "from tensorflow.keras.preprocessing.text import Tokenizer\n",
        "\n",
        "# Assuming 'tokenizer' is your Tokenizer object\n",
        "with open('tokenizer.pickle', 'wb') as handle:\n",
        "    pickle.dump(tokenizer, handle, protocol=pickle.HIGHEST_PROTOCOL)\n"
      ],
      "metadata": {
        "id": "NoWbCvtTl5jr"
      },
      "execution_count": 72,
      "outputs": []
    },
    {
      "cell_type": "code",
      "source": [
        "from joblib import dump, load\n",
        "\n",
        "# Save the tokenizer\n",
        "dump(tokenizer, 'tokenizer.joblib')"
      ],
      "metadata": {
        "colab": {
          "base_uri": "https://localhost:8080/"
        },
        "id": "S7cLF9FJ1ALc",
        "outputId": "e258714d-5a7d-4955-f7e9-bbff2b9522fe"
      },
      "execution_count": 12,
      "outputs": [
        {
          "output_type": "execute_result",
          "data": {
            "text/plain": [
              "['tokenizer.joblib']"
            ]
          },
          "metadata": {},
          "execution_count": 12
        }
      ]
    },
    {
      "cell_type": "code",
      "source": [],
      "metadata": {
        "id": "fNMzajRV2qhY"
      },
      "execution_count": null,
      "outputs": []
    }
  ],
  "metadata": {
    "accelerator": "GPU",
    "colab": {
      "gpuType": "T4",
      "provenance": []
    },
    "kernelspec": {
      "display_name": "Python 3",
      "name": "python3"
    },
    "language_info": {
      "name": "python"
    }
  },
  "nbformat": 4,
  "nbformat_minor": 0
}